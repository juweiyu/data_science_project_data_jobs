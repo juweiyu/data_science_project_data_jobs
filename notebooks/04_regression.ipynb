{
 "cells": [
  {
   "cell_type": "markdown",
   "id": "82150411",
   "metadata": {},
   "source": [
    "# Data Regression"
   ]
  },
  {
   "cell_type": "markdown",
   "id": "af855b2b",
   "metadata": {},
   "source": [
    "1. this report aims to estimate the low salary of each job\n",
    "2. The following features are provided:\n",
    "    - Job Title, Rating, Company Name, Location, Headquarters, Type of ownership, Industry, Sector, upper_bound Minimum Size, Maximum Size, Domain\n",
    "3. The regressors onclude:\n",
    "    - Linear regressor, Lasso regressor, Ridge regressor, Polynomial regressor, Random forest regressor, Random forest regressor with cross validation, and Gradient boost with cross validation."
   ]
  },
  {
   "cell_type": "code",
   "execution_count": 1,
   "id": "antique-arrangement",
   "metadata": {},
   "outputs": [],
   "source": [
    "# import\n",
    "import pandas as pd\n",
    "import numpy as np\n",
    "\n",
    "import matplotlib.pyplot as plt\n",
    "import seaborn as sns\n",
    "import matplotlib as mpl\n",
    "\n",
    "import warnings\n",
    "warnings.filterwarnings(\"ignore\")\n",
    "\n",
    "from sklearn.preprocessing import LabelEncoder"
   ]
  },
  {
   "cell_type": "markdown",
   "id": "d7bc3c78",
   "metadata": {},
   "source": [
    "# ------------------------ PREPARE THE DATA------------------------"
   ]
  },
  {
   "cell_type": "markdown",
   "id": "german-lighting",
   "metadata": {},
   "source": [
    "##### 1. Load df"
   ]
  },
  {
   "cell_type": "code",
   "execution_count": 2,
   "id": "prime-begin",
   "metadata": {},
   "outputs": [],
   "source": [
    "df_scientist = pd.read_excel(\"Cleaned_DataScientist.xlsx\", engine='openpyxl')\n",
    "df_analyst = pd.read_excel(\"Cleaned_DataAnalyst.xlsx\", engine='openpyxl')\n",
    "df_engineer = pd.read_excel(\"Cleaned_DataEngineer.xlsx\", engine='openpyxl')"
   ]
  },
  {
   "cell_type": "markdown",
   "id": "historical-trace",
   "metadata": {},
   "source": [
    "##### 2. Add domain for regression"
   ]
  },
  {
   "cell_type": "code",
   "execution_count": 3,
   "id": "medium-korea",
   "metadata": {},
   "outputs": [],
   "source": [
    "df_scientist['Domain'] = 'Scientist'\n",
    "df_analyst['Domain'] = 'Analyst'\n",
    "df_engineer['Domain'] = 'Engineer'"
   ]
  },
  {
   "cell_type": "code",
   "execution_count": 4,
   "id": "grand-thanksgiving",
   "metadata": {},
   "outputs": [
    {
     "data": {
      "text/html": [
       "<div>\n",
       "<style scoped>\n",
       "    .dataframe tbody tr th:only-of-type {\n",
       "        vertical-align: middle;\n",
       "    }\n",
       "\n",
       "    .dataframe tbody tr th {\n",
       "        vertical-align: top;\n",
       "    }\n",
       "\n",
       "    .dataframe thead th {\n",
       "        text-align: right;\n",
       "    }\n",
       "</style>\n",
       "<table border=\"1\" class=\"dataframe\">\n",
       "  <thead>\n",
       "    <tr style=\"text-align: right;\">\n",
       "      <th></th>\n",
       "      <th>Job Title</th>\n",
       "      <th>Rating</th>\n",
       "      <th>Company Name</th>\n",
       "      <th>Location</th>\n",
       "      <th>Headquarters</th>\n",
       "      <th>Type of ownership</th>\n",
       "      <th>Industry</th>\n",
       "      <th>Sector</th>\n",
       "      <th>lower_salary</th>\n",
       "      <th>upper_bound</th>\n",
       "      <th>Minimum Size</th>\n",
       "      <th>Maximum Size</th>\n",
       "      <th>Domain</th>\n",
       "    </tr>\n",
       "  </thead>\n",
       "  <tbody>\n",
       "    <tr>\n",
       "      <th>0</th>\n",
       "      <td>Senior Data Scientist</td>\n",
       "      <td>3.5</td>\n",
       "      <td>Hopper</td>\n",
       "      <td>New York, NY</td>\n",
       "      <td>Montreal, Canada</td>\n",
       "      <td>Company - Private</td>\n",
       "      <td>Travel Agencies</td>\n",
       "      <td>Travel &amp; Tourism</td>\n",
       "      <td>111000.0</td>\n",
       "      <td>181000</td>\n",
       "      <td>501</td>\n",
       "      <td>1000.0</td>\n",
       "      <td>Scientist</td>\n",
       "    </tr>\n",
       "    <tr>\n",
       "      <th>1</th>\n",
       "      <td>Data Scientist, Product Analytics</td>\n",
       "      <td>4.5</td>\n",
       "      <td>Noom US</td>\n",
       "      <td>New York, NY</td>\n",
       "      <td>New York, NY</td>\n",
       "      <td>Company - Private</td>\n",
       "      <td>Health, Beauty, &amp; Fitness</td>\n",
       "      <td>Consumer Services</td>\n",
       "      <td>111000.0</td>\n",
       "      <td>181000</td>\n",
       "      <td>1001</td>\n",
       "      <td>5000.0</td>\n",
       "      <td>Scientist</td>\n",
       "    </tr>\n",
       "    <tr>\n",
       "      <th>2</th>\n",
       "      <td>Data Science Manager</td>\n",
       "      <td>-1.0</td>\n",
       "      <td>Decode_M</td>\n",
       "      <td>New York, NY</td>\n",
       "      <td>New York, NY</td>\n",
       "      <td>Unknown</td>\n",
       "      <td>-1</td>\n",
       "      <td>-1</td>\n",
       "      <td>111000.0</td>\n",
       "      <td>181000</td>\n",
       "      <td>1</td>\n",
       "      <td>50.0</td>\n",
       "      <td>Scientist</td>\n",
       "    </tr>\n",
       "    <tr>\n",
       "      <th>3</th>\n",
       "      <td>Data Analyst</td>\n",
       "      <td>3.4</td>\n",
       "      <td>Sapphire Digital</td>\n",
       "      <td>Lyndhurst, NJ</td>\n",
       "      <td>Lyndhurst, NJ</td>\n",
       "      <td>Company - Private</td>\n",
       "      <td>Internet</td>\n",
       "      <td>Information Technology</td>\n",
       "      <td>111000.0</td>\n",
       "      <td>181000</td>\n",
       "      <td>201</td>\n",
       "      <td>500.0</td>\n",
       "      <td>Scientist</td>\n",
       "    </tr>\n",
       "    <tr>\n",
       "      <th>4</th>\n",
       "      <td>Director, Data Science</td>\n",
       "      <td>3.4</td>\n",
       "      <td>United Entertainment Group</td>\n",
       "      <td>New York, NY</td>\n",
       "      <td>New York, NY</td>\n",
       "      <td>Company - Private</td>\n",
       "      <td>Advertising &amp; Marketing</td>\n",
       "      <td>Business Services</td>\n",
       "      <td>111000.0</td>\n",
       "      <td>181000</td>\n",
       "      <td>51</td>\n",
       "      <td>200.0</td>\n",
       "      <td>Scientist</td>\n",
       "    </tr>\n",
       "  </tbody>\n",
       "</table>\n",
       "</div>"
      ],
      "text/plain": [
       "                           Job Title  Rating                Company Name  \\\n",
       "0              Senior Data Scientist     3.5                      Hopper   \n",
       "1  Data Scientist, Product Analytics     4.5                     Noom US   \n",
       "2               Data Science Manager    -1.0                    Decode_M   \n",
       "3                       Data Analyst     3.4            Sapphire Digital   \n",
       "4             Director, Data Science     3.4  United Entertainment Group   \n",
       "\n",
       "        Location      Headquarters  Type of ownership  \\\n",
       "0   New York, NY  Montreal, Canada  Company - Private   \n",
       "1   New York, NY      New York, NY  Company - Private   \n",
       "2   New York, NY      New York, NY            Unknown   \n",
       "3  Lyndhurst, NJ     Lyndhurst, NJ  Company - Private   \n",
       "4   New York, NY      New York, NY  Company - Private   \n",
       "\n",
       "                    Industry                  Sector  lower_salary  \\\n",
       "0            Travel Agencies        Travel & Tourism      111000.0   \n",
       "1  Health, Beauty, & Fitness       Consumer Services      111000.0   \n",
       "2                         -1                      -1      111000.0   \n",
       "3                   Internet  Information Technology      111000.0   \n",
       "4    Advertising & Marketing       Business Services      111000.0   \n",
       "\n",
       "   upper_bound  Minimum Size  Maximum Size     Domain  \n",
       "0       181000           501        1000.0  Scientist  \n",
       "1       181000          1001        5000.0  Scientist  \n",
       "2       181000             1          50.0  Scientist  \n",
       "3       181000           201         500.0  Scientist  \n",
       "4       181000            51         200.0  Scientist  "
      ]
     },
     "execution_count": 4,
     "metadata": {},
     "output_type": "execute_result"
    }
   ],
   "source": [
    "# Combine three dataframes\n",
    "df_all = pd.concat([df_scientist, df_analyst, df_engineer], ignore_index=True, sort=False)\n",
    "df_all = df_all[[\"Job Title\", \"Rating\", \"Company Name\", \"Location\", \"Headquarters\", \"Type of ownership\", \"Industry\", \"Sector\", \"lower_salary\", \"upper_bound\", \"Minimum Size\", \"Maximum Size\", \"Domain\"]]\n",
    "df_all = df_all.dropna()\n",
    "df_all.head(5)"
   ]
  },
  {
   "cell_type": "markdown",
   "id": "bronze-pillow",
   "metadata": {},
   "source": [
    "##### 3. Set y_df to lower_salary (regression goal)"
   ]
  },
  {
   "cell_type": "code",
   "execution_count": 5,
   "id": "traditional-titanium",
   "metadata": {},
   "outputs": [],
   "source": [
    "y_df = df_all['lower_salary']"
   ]
  },
  {
   "cell_type": "markdown",
   "id": "adapted-flower",
   "metadata": {},
   "source": [
    "#####  4. Encode x_lable"
   ]
  },
  {
   "cell_type": "code",
   "execution_count": 6,
   "id": "spiritual-drove",
   "metadata": {},
   "outputs": [
    {
     "data": {
      "text/html": [
       "<div>\n",
       "<style scoped>\n",
       "    .dataframe tbody tr th:only-of-type {\n",
       "        vertical-align: middle;\n",
       "    }\n",
       "\n",
       "    .dataframe tbody tr th {\n",
       "        vertical-align: top;\n",
       "    }\n",
       "\n",
       "    .dataframe thead th {\n",
       "        text-align: right;\n",
       "    }\n",
       "</style>\n",
       "<table border=\"1\" class=\"dataframe\">\n",
       "  <thead>\n",
       "    <tr style=\"text-align: right;\">\n",
       "      <th></th>\n",
       "      <th>Job Title</th>\n",
       "      <th>Rating</th>\n",
       "      <th>Company Name</th>\n",
       "      <th>Location</th>\n",
       "      <th>Headquarters</th>\n",
       "      <th>Type of ownership</th>\n",
       "      <th>Industry</th>\n",
       "      <th>Sector</th>\n",
       "      <th>Domain</th>\n",
       "    </tr>\n",
       "  </thead>\n",
       "  <tbody>\n",
       "    <tr>\n",
       "      <th>0</th>\n",
       "      <td>3108</td>\n",
       "      <td>22</td>\n",
       "      <td>1416</td>\n",
       "      <td>204</td>\n",
       "      <td>476</td>\n",
       "      <td>2</td>\n",
       "      <td>101</td>\n",
       "      <td>25</td>\n",
       "      <td>2</td>\n",
       "    </tr>\n",
       "    <tr>\n",
       "      <th>1</th>\n",
       "      <td>1457</td>\n",
       "      <td>32</td>\n",
       "      <td>2129</td>\n",
       "      <td>204</td>\n",
       "      <td>508</td>\n",
       "      <td>2</td>\n",
       "      <td>53</td>\n",
       "      <td>8</td>\n",
       "      <td>2</td>\n",
       "    </tr>\n",
       "    <tr>\n",
       "      <th>2</th>\n",
       "      <td>1275</td>\n",
       "      <td>0</td>\n",
       "      <td>894</td>\n",
       "      <td>204</td>\n",
       "      <td>508</td>\n",
       "      <td>14</td>\n",
       "      <td>0</td>\n",
       "      <td>0</td>\n",
       "      <td>2</td>\n",
       "    </tr>\n",
       "    <tr>\n",
       "      <th>3</th>\n",
       "      <td>688</td>\n",
       "      <td>21</td>\n",
       "      <td>2641</td>\n",
       "      <td>175</td>\n",
       "      <td>424</td>\n",
       "      <td>2</td>\n",
       "      <td>61</td>\n",
       "      <td>13</td>\n",
       "      <td>2</td>\n",
       "    </tr>\n",
       "    <tr>\n",
       "      <th>4</th>\n",
       "      <td>1639</td>\n",
       "      <td>21</td>\n",
       "      <td>3208</td>\n",
       "      <td>204</td>\n",
       "      <td>508</td>\n",
       "      <td>2</td>\n",
       "      <td>2</td>\n",
       "      <td>6</td>\n",
       "      <td>2</td>\n",
       "    </tr>\n",
       "  </tbody>\n",
       "</table>\n",
       "</div>"
      ],
      "text/plain": [
       "   Job Title  Rating  Company Name  Location  Headquarters  Type of ownership  \\\n",
       "0       3108      22          1416       204           476                  2   \n",
       "1       1457      32          2129       204           508                  2   \n",
       "2       1275       0           894       204           508                 14   \n",
       "3        688      21          2641       175           424                  2   \n",
       "4       1639      21          3208       204           508                  2   \n",
       "\n",
       "   Industry  Sector  Domain  \n",
       "0       101      25       2  \n",
       "1        53       8       2  \n",
       "2         0       0       2  \n",
       "3        61      13       2  \n",
       "4         2       6       2  "
      ]
     },
     "execution_count": 6,
     "metadata": {},
     "output_type": "execute_result"
    }
   ],
   "source": [
    "x_df = df_all[[\"Job Title\", \"Rating\", \"Company Name\", \"Location\", \"Headquarters\", \"Type of ownership\", \"Industry\", \"Sector\", \"Domain\"]]\n",
    "x_df = x_df.apply(LabelEncoder().fit_transform)\n",
    "x_df.head(5)"
   ]
  },
  {
   "cell_type": "markdown",
   "id": "6018e4a2",
   "metadata": {},
   "source": [
    "##### 5. Perform train-test split"
   ]
  },
  {
   "cell_type": "code",
   "execution_count": 7,
   "id": "skilled-inventory",
   "metadata": {},
   "outputs": [],
   "source": [
    "from sklearn.model_selection import train_test_split\n",
    "\n",
    "X_train, X_test, y_train, y_test = train_test_split(x_df, y_df, test_size=0.2, random_state=0)"
   ]
  },
  {
   "cell_type": "markdown",
   "id": "2b344386",
   "metadata": {},
   "source": [
    "# --------------------------EVALUATION FUNCTIONS---------------------"
   ]
  },
  {
   "cell_type": "markdown",
   "id": "8b61a67d",
   "metadata": {},
   "source": [
    "For the evaluation, we print out:\n",
    "1. MAE: mean absolute error\n",
    "2. MSE: mean squared error\n",
    "3. RMSE: root mean squared error\n",
    "4. R2 Square"
   ]
  },
  {
   "cell_type": "code",
   "execution_count": 8,
   "id": "difficult-holder",
   "metadata": {},
   "outputs": [],
   "source": [
    "from sklearn import metrics\n",
    "from sklearn.model_selection import cross_val_score\n",
    "\n",
    "def cross_val(model):\n",
    "    pred = cross_val_score(model, x_df, y_df, cv=5, scoring='r2')\n",
    "    return pred\n",
    "\n",
    "def print_evaluate(true, predicted):  \n",
    "    mae = metrics.mean_absolute_error(true, predicted)\n",
    "    mse = metrics.mean_squared_error(true, predicted)\n",
    "    rmse = np.sqrt(metrics.mean_squared_error(true, predicted))\n",
    "    r2_square = metrics.r2_score(true, predicted)\n",
    "    print('MAE:', mae)\n",
    "    print('MSE:', mse)\n",
    "    print('RMSE:', rmse)\n",
    "    print('R2 Square', r2_square)\n",
    "    \n",
    "def evaluate(true, predicted):\n",
    "    mae = metrics.mean_absolute_error(true, predicted)\n",
    "    mse = metrics.mean_squared_error(true, predicted)\n",
    "    rmse = np.sqrt(metrics.mean_squared_error(true, predicted))\n",
    "    r2_square = metrics.r2_score(true, predicted)\n",
    "    return mae, mse, rmse, r2_square"
   ]
  },
  {
   "cell_type": "markdown",
   "id": "b338b19e",
   "metadata": {},
   "source": [
    "# -------------------------------RESULT--------------------------------------"
   ]
  },
  {
   "cell_type": "markdown",
   "id": "subtle-hamburg",
   "metadata": {},
   "source": [
    "### 1.  Linear regression"
   ]
  },
  {
   "cell_type": "markdown",
   "id": "de51b891",
   "metadata": {},
   "source": [
    "##### 1.1 Define a linear regression regressor"
   ]
  },
  {
   "cell_type": "code",
   "execution_count": 9,
   "id": "current-nancy",
   "metadata": {},
   "outputs": [
    {
     "data": {
      "text/plain": [
       "LinearRegression(normalize=True)"
      ]
     },
     "execution_count": 9,
     "metadata": {},
     "output_type": "execute_result"
    }
   ],
   "source": [
    "from sklearn.linear_model import LinearRegression\n",
    "\n",
    "lin_reg = LinearRegression(normalize=True)\n",
    "lin_reg.fit(X_train,y_train)"
   ]
  },
  {
   "cell_type": "markdown",
   "id": "05ef0967",
   "metadata": {},
   "source": [
    "##### 1.2 Print coefficient b0"
   ]
  },
  {
   "cell_type": "code",
   "execution_count": 10,
   "id": "collectible-roots",
   "metadata": {},
   "outputs": [
    {
     "name": "stdout",
     "output_type": "stream",
     "text": [
      "43550.231293654564\n"
     ]
    }
   ],
   "source": [
    "print(lin_reg.intercept_)"
   ]
  },
  {
   "cell_type": "markdown",
   "id": "eb1c1faf",
   "metadata": {},
   "source": [
    "##### 1.3 Print the coefficient of each feature"
   ]
  },
  {
   "cell_type": "code",
   "execution_count": 11,
   "id": "tender-paper",
   "metadata": {},
   "outputs": [
    {
     "data": {
      "text/html": [
       "<div>\n",
       "<style scoped>\n",
       "    .dataframe tbody tr th:only-of-type {\n",
       "        vertical-align: middle;\n",
       "    }\n",
       "\n",
       "    .dataframe tbody tr th {\n",
       "        vertical-align: top;\n",
       "    }\n",
       "\n",
       "    .dataframe thead th {\n",
       "        text-align: right;\n",
       "    }\n",
       "</style>\n",
       "<table border=\"1\" class=\"dataframe\">\n",
       "  <thead>\n",
       "    <tr style=\"text-align: right;\">\n",
       "      <th></th>\n",
       "      <th>Coefficient</th>\n",
       "    </tr>\n",
       "  </thead>\n",
       "  <tbody>\n",
       "    <tr>\n",
       "      <th>Job Title</th>\n",
       "      <td>0.772600</td>\n",
       "    </tr>\n",
       "    <tr>\n",
       "      <th>Rating</th>\n",
       "      <td>118.613593</td>\n",
       "    </tr>\n",
       "    <tr>\n",
       "      <th>Company Name</th>\n",
       "      <td>0.293356</td>\n",
       "    </tr>\n",
       "    <tr>\n",
       "      <th>Location</th>\n",
       "      <td>58.593903</td>\n",
       "    </tr>\n",
       "    <tr>\n",
       "      <th>Headquarters</th>\n",
       "      <td>-0.088944</td>\n",
       "    </tr>\n",
       "    <tr>\n",
       "      <th>Type of ownership</th>\n",
       "      <td>-265.171185</td>\n",
       "    </tr>\n",
       "    <tr>\n",
       "      <th>Industry</th>\n",
       "      <td>-40.787790</td>\n",
       "    </tr>\n",
       "    <tr>\n",
       "      <th>Sector</th>\n",
       "      <td>331.489815</td>\n",
       "    </tr>\n",
       "    <tr>\n",
       "      <th>Domain</th>\n",
       "      <td>12548.612079</td>\n",
       "    </tr>\n",
       "  </tbody>\n",
       "</table>\n",
       "</div>"
      ],
      "text/plain": [
       "                    Coefficient\n",
       "Job Title              0.772600\n",
       "Rating               118.613593\n",
       "Company Name           0.293356\n",
       "Location              58.593903\n",
       "Headquarters          -0.088944\n",
       "Type of ownership   -265.171185\n",
       "Industry             -40.787790\n",
       "Sector               331.489815\n",
       "Domain             12548.612079"
      ]
     },
     "execution_count": 11,
     "metadata": {},
     "output_type": "execute_result"
    }
   ],
   "source": [
    "coeff_df = pd.DataFrame(lin_reg.coef_, x_df.columns, columns=['Coefficient'])\n",
    "coeff_df"
   ]
  },
  {
   "cell_type": "markdown",
   "id": "0e3469a3",
   "metadata": {},
   "source": [
    "##### 1.4 Plot the difference between the prediction and the result"
   ]
  },
  {
   "cell_type": "code",
   "execution_count": 12,
   "id": "silver-geology",
   "metadata": {},
   "outputs": [
    {
     "data": {
      "text/plain": [
       "Text(0.5, 6.79999999999999, 'Prediction difference')"
      ]
     },
     "execution_count": 12,
     "metadata": {},
     "output_type": "execute_result"
    },
    {
     "data": {
      "image/png": "[encoded data removed]",
      "text/plain": [
       "<Figure size 360x360 with 1 Axes>"
      ]
     },
     "metadata": {
      "needs_background": "light"
     },
     "output_type": "display_data"
    }
   ],
   "source": [
    "pred = lin_reg.predict(X_test)\n",
    "sns.displot((y_test - pred), bins=50)\n",
    "plt.xlabel(\"Prediction difference\")"
   ]
  },
  {
   "cell_type": "markdown",
   "id": "a7318a1a",
   "metadata": {},
   "source": [
    "##### 1.5 Print the evaluation"
   ]
  },
  {
   "cell_type": "code",
   "execution_count": 13,
   "id": "meaningful-reconstruction",
   "metadata": {},
   "outputs": [
    {
     "name": "stdout",
     "output_type": "stream",
     "text": [
      "Test set evaluation:\n",
      "_____________________________________\n",
      "MAE: 22454.195288904106\n",
      "MSE: 855588183.1285831\n",
      "RMSE: 29250.43902454428\n",
      "R2 Square 0.17461514936254907\n",
      "====================================\n",
      "Train set evaluation:\n",
      "_____________________________________\n",
      "MAE: 22884.64521932233\n",
      "MSE: 855808633.6683408\n",
      "RMSE: 29254.207110573698\n",
      "R2 Square 0.1380682772950853\n"
     ]
    }
   ],
   "source": [
    "test_pred = lin_reg.predict(X_test)\n",
    "train_pred = lin_reg.predict(X_train)\n",
    "\n",
    "print('Test set evaluation:\\n_____________________________________')\n",
    "print_evaluate(y_test, test_pred)\n",
    "print('====================================')\n",
    "print('Train set evaluation:\\n_____________________________________')\n",
    "print_evaluate(y_train, train_pred)"
   ]
  },
  {
   "cell_type": "code",
   "execution_count": 14,
   "id": "unable-organization",
   "metadata": {},
   "outputs": [
    {
     "data": {
      "text/html": [
       "<div>\n",
       "<style scoped>\n",
       "    .dataframe tbody tr th:only-of-type {\n",
       "        vertical-align: middle;\n",
       "    }\n",
       "\n",
       "    .dataframe tbody tr th {\n",
       "        vertical-align: top;\n",
       "    }\n",
       "\n",
       "    .dataframe thead th {\n",
       "        text-align: right;\n",
       "    }\n",
       "</style>\n",
       "<table border=\"1\" class=\"dataframe\">\n",
       "  <thead>\n",
       "    <tr style=\"text-align: right;\">\n",
       "      <th></th>\n",
       "      <th>Model</th>\n",
       "      <th>MAE</th>\n",
       "      <th>MSE</th>\n",
       "      <th>RMSE</th>\n",
       "      <th>R2 Square</th>\n",
       "      <th>Cross Validation</th>\n",
       "    </tr>\n",
       "  </thead>\n",
       "  <tbody>\n",
       "    <tr>\n",
       "      <th>0</th>\n",
       "      <td>Linear Regression</td>\n",
       "      <td>22454.195289</td>\n",
       "      <td>8.555882e+08</td>\n",
       "      <td>29250.439025</td>\n",
       "      <td>0.174615</td>\n",
       "      <td>[0.029187509647660148, 0.03914355523014623, -0...</td>\n",
       "    </tr>\n",
       "  </tbody>\n",
       "</table>\n",
       "</div>"
      ],
      "text/plain": [
       "               Model           MAE           MSE          RMSE  R2 Square  \\\n",
       "0  Linear Regression  22454.195289  8.555882e+08  29250.439025   0.174615   \n",
       "\n",
       "                                    Cross Validation  \n",
       "0  [0.029187509647660148, 0.03914355523014623, -0...  "
      ]
     },
     "execution_count": 14,
     "metadata": {},
     "output_type": "execute_result"
    }
   ],
   "source": [
    "evaluate_df = pd.DataFrame(data=[[\"Linear Regression\", *evaluate(y_test, test_pred) , cross_val(LinearRegression())]], \n",
    "                          columns=['Model', 'MAE', 'MSE', 'RMSE', 'R2 Square', \"Cross Validation\"])\n",
    "evaluate_df"
   ]
  },
  {
   "cell_type": "markdown",
   "id": "fiscal-consideration",
   "metadata": {},
   "source": [
    "### 2. Lasso regressor"
   ]
  },
  {
   "cell_type": "markdown",
   "id": "8c44fcee",
   "metadata": {},
   "source": [
    "Define a lasso regressor and print the evaluation"
   ]
  },
  {
   "cell_type": "code",
   "execution_count": 15,
   "id": "average-effect",
   "metadata": {},
   "outputs": [
    {
     "name": "stdout",
     "output_type": "stream",
     "text": [
      "Test set evaluation:\n",
      "_____________________________________\n",
      "MAE: 22454.208774310406\n",
      "MSE: 855588554.6667238\n",
      "RMSE: 29250.445375527597\n",
      "R2 Square 0.17461479094016907\n",
      "Train set evaluation:\n",
      "_____________________________________\n",
      "MAE: 22884.652092090888\n",
      "MSE: 855808633.6850808\n",
      "RMSE: 29254.20711085981\n",
      "R2 Square 0.13806827727822557\n"
     ]
    }
   ],
   "source": [
    "from sklearn.linear_model import Lasso\n",
    "\n",
    "lasso_reg = Lasso(alpha=0.1) \n",
    "lasso_reg.fit(X_train, y_train)\n",
    "\n",
    "test_pred = lasso_reg.predict(X_test)\n",
    "train_pred = lasso_reg.predict(X_train)\n",
    "\n",
    "print('Test set evaluation:\\n_____________________________________')\n",
    "print_evaluate(y_test, test_pred)\n",
    "\n",
    "print('Train set evaluation:\\n_____________________________________')\n",
    "print_evaluate(y_train, train_pred)"
   ]
  },
  {
   "cell_type": "markdown",
   "id": "absolute-wrestling",
   "metadata": {},
   "source": [
    "### 3. Ridge regressor"
   ]
  },
  {
   "cell_type": "markdown",
   "id": "6bf9cf86",
   "metadata": {},
   "source": [
    "Define a ridge regressor and print the evaluation"
   ]
  },
  {
   "cell_type": "code",
   "execution_count": 16,
   "id": "endless-regard",
   "metadata": {},
   "outputs": [
    {
     "name": "stdout",
     "output_type": "stream",
     "text": [
      "Test set evaluation:\n",
      "_____________________________________\n",
      "MAE: 22454.483476514415\n",
      "MSE: 855596486.9420215\n",
      "RMSE: 29250.58096759826\n",
      "R2 Square 0.17460713868410616\n",
      "Train set evaluation:\n",
      "_____________________________________\n",
      "MAE: 22884.770095606673\n",
      "MSE: 855808638.5836905\n",
      "RMSE: 29254.207194584687\n",
      "R2 Square 0.13806827234456753\n"
     ]
    }
   ],
   "source": [
    "from sklearn.linear_model import Ridge\n",
    "\n",
    "ridge_reg = Ridge(alpha=1.0)\n",
    "ridge_reg.fit(X_train, y_train)\n",
    "\n",
    "test_pred = ridge_reg.predict(X_test)\n",
    "train_pred = ridge_reg.predict(X_train)\n",
    "\n",
    "print('Test set evaluation:\\n_____________________________________')\n",
    "print_evaluate(y_test, test_pred)\n",
    "\n",
    "print('Train set evaluation:\\n_____________________________________')\n",
    "print_evaluate(y_train, train_pred)"
   ]
  },
  {
   "cell_type": "markdown",
   "id": "essential-canyon",
   "metadata": {},
   "source": [
    "### 4. Polynomial regression"
   ]
  },
  {
   "cell_type": "markdown",
   "id": "3b829806",
   "metadata": {},
   "source": [
    "Define a polynomial regressor (8 degree) and print the evaluation"
   ]
  },
  {
   "cell_type": "code",
   "execution_count": 17,
   "id": "signal-staff",
   "metadata": {},
   "outputs": [
    {
     "name": "stdout",
     "output_type": "stream",
     "text": [
      "Test set evaluation:\n",
      "_____________________________________\n",
      "MAE: 21281608481671.64\n",
      "MSE: 7.654244468078302e+27\n",
      "RMSE: 87488539067001.81\n",
      "R2 Square -7.384040069283988e+18\n",
      "====================================\n",
      "Train set evaluation:\n",
      "_____________________________________\n",
      "MAE: 1312.0322976618704\n",
      "MSE: 21285057.972730864\n",
      "RMSE: 4613.57323261817\n",
      "R2 Square 0.9785626529523658\n"
     ]
    }
   ],
   "source": [
    "from sklearn.preprocessing import PolynomialFeatures\n",
    "\n",
    "poly_reg = PolynomialFeatures(degree=8)\n",
    "\n",
    "X_train_2_d = poly_reg.fit_transform(X_train)\n",
    "X_test_2_d = poly_reg.transform(X_test)\n",
    "\n",
    "lin_reg = LinearRegression(normalize=True)\n",
    "lin_reg.fit(X_train_2_d,y_train)\n",
    "\n",
    "test_pred = lin_reg.predict(X_test_2_d)\n",
    "train_pred = lin_reg.predict(X_train_2_d)\n",
    "\n",
    "print('Test set evaluation:\\n_____________________________________')\n",
    "print_evaluate(y_test, test_pred)\n",
    "print('====================================')\n",
    "print('Train set evaluation:\\n_____________________________________')\n",
    "print_evaluate(y_train, train_pred)"
   ]
  },
  {
   "cell_type": "markdown",
   "id": "e6138ce0",
   "metadata": {},
   "source": [
    "##### 4. 1 Conclusion"
   ]
  },
  {
   "cell_type": "markdown",
   "id": "8ed062b2",
   "metadata": {},
   "source": [
    "The result demonstrates a clear overfitting outcome, and therefore Polynomial regressors with high degrees should be avoided."
   ]
  },
  {
   "cell_type": "markdown",
   "id": "sudden-garlic",
   "metadata": {},
   "source": [
    "### 5. Random forest regressor"
   ]
  },
  {
   "cell_type": "markdown",
   "id": "bc34b591",
   "metadata": {},
   "source": [
    "Define a random forest regressor and print the evaluation"
   ]
  },
  {
   "cell_type": "code",
   "execution_count": 18,
   "id": "polar-intention",
   "metadata": {},
   "outputs": [
    {
     "name": "stdout",
     "output_type": "stream",
     "text": [
      "Test set evaluation:\n",
      "_____________________________________\n",
      "MAE: 18089.560418105102\n",
      "MSE: 606572143.35753\n",
      "RMSE: 24628.685376152946\n",
      "R2 Square 0.41484061161846153\n",
      "Train set evaluation:\n",
      "_____________________________________\n",
      "MAE: 6991.370718135103\n",
      "MSE: 90121729.06207278\n",
      "RMSE: 9493.246497488242\n",
      "R2 Square 0.9092334733167444\n"
     ]
    }
   ],
   "source": [
    "from sklearn.ensemble import RandomForestRegressor\n",
    "\n",
    "rf_reg = RandomForestRegressor(n_estimators=500)\n",
    "rf_reg.fit(X_train, y_train)\n",
    "\n",
    "test_pred = rf_reg.predict(X_test)\n",
    "train_pred = rf_reg.predict(X_train)\n",
    "\n",
    "print('Test set evaluation:\\n_____________________________________')\n",
    "print_evaluate(y_test, test_pred)\n",
    "\n",
    "print('Train set evaluation:\\n_____________________________________')\n",
    "print_evaluate(y_train, train_pred)"
   ]
  },
  {
   "cell_type": "code",
   "execution_count": 31,
   "id": "negative-graham",
   "metadata": {},
   "outputs": [
    {
     "data": {
      "text/html": [
       "<div>\n",
       "<style scoped>\n",
       "    .dataframe tbody tr th:only-of-type {\n",
       "        vertical-align: middle;\n",
       "    }\n",
       "\n",
       "    .dataframe tbody tr th {\n",
       "        vertical-align: top;\n",
       "    }\n",
       "\n",
       "    .dataframe thead th {\n",
       "        text-align: right;\n",
       "    }\n",
       "</style>\n",
       "<table border=\"1\" class=\"dataframe\">\n",
       "  <thead>\n",
       "    <tr style=\"text-align: right;\">\n",
       "      <th></th>\n",
       "      <th>Model</th>\n",
       "      <th>MAE</th>\n",
       "      <th>MSE</th>\n",
       "      <th>RMSE</th>\n",
       "      <th>R2 Square</th>\n",
       "      <th>Cross Validation</th>\n",
       "    </tr>\n",
       "  </thead>\n",
       "  <tbody>\n",
       "    <tr>\n",
       "      <th>0</th>\n",
       "      <td>Random Forest Regression</td>\n",
       "      <td>17948.389353</td>\n",
       "      <td>5.791985e+08</td>\n",
       "      <td>24066.542858</td>\n",
       "      <td>0.441248</td>\n",
       "      <td>[-0.14511571986260918, -0.016408616768085693, ...</td>\n",
       "    </tr>\n",
       "  </tbody>\n",
       "</table>\n",
       "</div>"
      ],
      "text/plain": [
       "                      Model           MAE           MSE          RMSE  \\\n",
       "0  Random Forest Regression  17948.389353  5.791985e+08  24066.542858   \n",
       "\n",
       "   R2 Square                                   Cross Validation  \n",
       "0   0.441248  [-0.14511571986260918, -0.016408616768085693, ...  "
      ]
     },
     "execution_count": 31,
     "metadata": {},
     "output_type": "execute_result"
    }
   ],
   "source": [
    "evaluate_df_random_forest = pd.DataFrame(data=[[\"Random Forest Regression\", *evaluate(y_test, test_pred) , cross_val(RandomForestRegressor())]], \n",
    "                          columns=['Model', 'MAE', 'MSE', 'RMSE', 'R2 Square', \"Cross Validation\"])\n",
    "evaluate_df_random_forest"
   ]
  },
  {
   "cell_type": "markdown",
   "id": "92adf92f",
   "metadata": {},
   "source": [
    "##### 5.1 Random forest conclusion"
   ]
  },
  {
   "cell_type": "markdown",
   "id": "210a7881",
   "metadata": {},
   "source": [
    "The result demonstrates a clear overfitted outcome, but the result is not as severe as the polynomial regressor"
   ]
  },
  {
   "cell_type": "markdown",
   "id": "d8157fb3",
   "metadata": {},
   "source": [
    "###  6. Random forest regressor with cross validation"
   ]
  },
  {
   "cell_type": "code",
   "execution_count": 58,
   "id": "21a6edb6",
   "metadata": {},
   "outputs": [],
   "source": [
    "from sklearn.model_selection import GridSearchCV\n",
    "from sklearn.ensemble import RandomForestRegressor\n",
    "# Create the parameter grid based on the results of random search \n",
    "param_grid = {'n_estimators':[100,500,1000], \n",
    "              # 'max_depth':[4,6],\n",
    "              'min_samples_split':[2,10,30,40]} \n",
    "\n",
    "# Create a based model\n",
    "rf_reg_base = RandomForestRegressor()\n",
    "# Instantiate the grid search model\n",
    "grid_search = GridSearchCV(estimator = rf_reg_base, param_grid = param_grid, \n",
    "                          cv = 3, n_jobs = -1, verbose = 2)"
   ]
  },
  {
   "cell_type": "code",
   "execution_count": 59,
   "id": "11595e41",
   "metadata": {},
   "outputs": [
    {
     "name": "stdout",
     "output_type": "stream",
     "text": [
      "Fitting 3 folds for each of 12 candidates, totalling 36 fits\n"
     ]
    }
   ],
   "source": [
    "# Fit the grid search to the data\n",
    "grid_search.fit(X_train,y_train)\n",
    "rf_params_best = grid_search.best_params_"
   ]
  },
  {
   "cell_type": "code",
   "execution_count": 60,
   "id": "e4ee3daf",
   "metadata": {},
   "outputs": [
    {
     "data": {
      "text/plain": [
       "{'min_samples_split': 30, 'n_estimators': 500}"
      ]
     },
     "execution_count": 60,
     "metadata": {},
     "output_type": "execute_result"
    }
   ],
   "source": [
    "rf_params_best"
   ]
  },
  {
   "cell_type": "code",
   "execution_count": 61,
   "id": "4ffe512f",
   "metadata": {},
   "outputs": [
    {
     "name": "stdout",
     "output_type": "stream",
     "text": [
      "Test set evaluation:\n",
      "_____________________________________\n",
      "MAE: 17509.084309134\n",
      "MSE: 556334591.763091\n",
      "RMSE: 23586.746103756894\n",
      "R2 Square 0.4633047148363709\n",
      "Train set evaluation:\n",
      "_____________________________________\n",
      "MAE: 14646.495666383484\n",
      "MSE: 377105430.2834611\n",
      "RMSE: 19419.20261708655\n",
      "R2 Square 0.6201964780696907\n"
     ]
    }
   ],
   "source": [
    "rf_best_grid = grid_search.best_estimator_\n",
    "\n",
    "test_pred = rf_best_grid.predict(X_test)\n",
    "train_pred = rf_best_grid.predict(X_train)\n",
    "\n",
    "print('Test set evaluation:\\n_____________________________________')\n",
    "print_evaluate(y_test, test_pred)\n",
    "\n",
    "print('Train set evaluation:\\n_____________________________________')\n",
    "print_evaluate(y_train, train_pred)"
   ]
  },
  {
   "cell_type": "code",
   "execution_count": 62,
   "id": "c9108ff7",
   "metadata": {},
   "outputs": [
    {
     "data": {
      "text/html": [
       "<div>\n",
       "<style scoped>\n",
       "    .dataframe tbody tr th:only-of-type {\n",
       "        vertical-align: middle;\n",
       "    }\n",
       "\n",
       "    .dataframe tbody tr th {\n",
       "        vertical-align: top;\n",
       "    }\n",
       "\n",
       "    .dataframe thead th {\n",
       "        text-align: right;\n",
       "    }\n",
       "</style>\n",
       "<table border=\"1\" class=\"dataframe\">\n",
       "  <thead>\n",
       "    <tr style=\"text-align: right;\">\n",
       "      <th></th>\n",
       "      <th>Model</th>\n",
       "      <th>MAE</th>\n",
       "      <th>MSE</th>\n",
       "      <th>RMSE</th>\n",
       "      <th>R2 Square</th>\n",
       "      <th>Cross Validation</th>\n",
       "    </tr>\n",
       "  </thead>\n",
       "  <tbody>\n",
       "    <tr>\n",
       "      <th>0</th>\n",
       "      <td>GradientBoostingRegressor</td>\n",
       "      <td>17509.084309</td>\n",
       "      <td>5.563346e+08</td>\n",
       "      <td>23586.746104</td>\n",
       "      <td>0.463305</td>\n",
       "      <td>[-0.12466963192305047, -0.024545655146064327, ...</td>\n",
       "    </tr>\n",
       "  </tbody>\n",
       "</table>\n",
       "</div>"
      ],
      "text/plain": [
       "                       Model           MAE           MSE          RMSE  \\\n",
       "0  GradientBoostingRegressor  17509.084309  5.563346e+08  23586.746104   \n",
       "\n",
       "   R2 Square                                   Cross Validation  \n",
       "0   0.463305  [-0.12466963192305047, -0.024545655146064327, ...  "
      ]
     },
     "execution_count": 62,
     "metadata": {},
     "output_type": "execute_result"
    }
   ],
   "source": [
    "evaluate_df_rf = pd.DataFrame(data=[[\"GradientBoostingRegressor\", *evaluate(y_test, test_pred) , cross_val(RandomForestRegressor())]], \n",
    "                          columns=['Model', 'MAE', 'MSE', 'RMSE', 'R2 Square', \"Cross Validation\"])\n",
    "evaluate_df_rf"
   ]
  },
  {
   "cell_type": "markdown",
   "id": "e9791617",
   "metadata": {},
   "source": [
    "##### 6.1 Conclusion"
   ]
  },
  {
   "cell_type": "markdown",
   "id": "55b62929",
   "metadata": {},
   "source": [
    "After toning the parameters, the R2 square of the training data set is reduced, but the performance on the testing data set is improved"
   ]
  },
  {
   "cell_type": "markdown",
   "id": "humanitarian-pilot",
   "metadata": {},
   "source": [
    "### 7. Gradient boost regressor"
   ]
  },
  {
   "cell_type": "markdown",
   "id": "765d8934",
   "metadata": {},
   "source": [
    "Define a gradient boost regressor and print the evaluation."
   ]
  },
  {
   "cell_type": "code",
   "execution_count": 20,
   "id": "constitutional-concert",
   "metadata": {},
   "outputs": [
    {
     "name": "stdout",
     "output_type": "stream",
     "text": [
      "Test set evaluation:\n",
      "_____________________________________\n",
      "MAE: 17679.8854668099\n",
      "MSE: 580662562.5941035\n",
      "RMSE: 24096.940938511332\n",
      "R2 Square 0.43983555178967915\n",
      "Train set evaluation:\n",
      "_____________________________________\n",
      "MAE: 14983.506048447392\n",
      "MSE: 428399377.583546\n",
      "RMSE: 20697.81093699394\n",
      "R2 Square 0.568535535866774\n"
     ]
    }
   ],
   "source": [
    "from sklearn.ensemble import GradientBoostingRegressor\n",
    "\n",
    "params = {'n_estimators': 1000,\n",
    "          'max_depth': 6,\n",
    "          'min_samples_split': 5,\n",
    "          'learning_rate': 0.01,\n",
    "          'loss': 'huber'}\n",
    "\n",
    "gb_reg = GradientBoostingRegressor(**params)\n",
    "gb_reg.fit(X_train, y_train)\n",
    "\n",
    "test_pred = gb_reg.predict(X_test)\n",
    "train_pred = gb_reg.predict(X_train)\n",
    "\n",
    "print('Test set evaluation:\\n_____________________________________')\n",
    "print_evaluate(y_test, test_pred)\n",
    "\n",
    "print('Train set evaluation:\\n_____________________________________')\n",
    "print_evaluate(y_train, train_pred)"
   ]
  },
  {
   "cell_type": "code",
   "execution_count": 21,
   "id": "secret-addiction",
   "metadata": {},
   "outputs": [
    {
     "data": {
      "text/html": [
       "<div>\n",
       "<style scoped>\n",
       "    .dataframe tbody tr th:only-of-type {\n",
       "        vertical-align: middle;\n",
       "    }\n",
       "\n",
       "    .dataframe tbody tr th {\n",
       "        vertical-align: top;\n",
       "    }\n",
       "\n",
       "    .dataframe thead th {\n",
       "        text-align: right;\n",
       "    }\n",
       "</style>\n",
       "<table border=\"1\" class=\"dataframe\">\n",
       "  <thead>\n",
       "    <tr style=\"text-align: right;\">\n",
       "      <th></th>\n",
       "      <th>Model</th>\n",
       "      <th>MAE</th>\n",
       "      <th>MSE</th>\n",
       "      <th>RMSE</th>\n",
       "      <th>R2 Square</th>\n",
       "      <th>Cross Validation</th>\n",
       "    </tr>\n",
       "  </thead>\n",
       "  <tbody>\n",
       "    <tr>\n",
       "      <th>0</th>\n",
       "      <td>GradientBoostingRegressor</td>\n",
       "      <td>17679.885467</td>\n",
       "      <td>5.806626e+08</td>\n",
       "      <td>24096.940939</td>\n",
       "      <td>0.439836</td>\n",
       "      <td>[0.08441651392598015, 0.17330973218282208, -0....</td>\n",
       "    </tr>\n",
       "  </tbody>\n",
       "</table>\n",
       "</div>"
      ],
      "text/plain": [
       "                       Model           MAE           MSE          RMSE  \\\n",
       "0  GradientBoostingRegressor  17679.885467  5.806626e+08  24096.940939   \n",
       "\n",
       "   R2 Square                                   Cross Validation  \n",
       "0   0.439836  [0.08441651392598015, 0.17330973218282208, -0....  "
      ]
     },
     "execution_count": 21,
     "metadata": {},
     "output_type": "execute_result"
    }
   ],
   "source": [
    "evaluate_df_gb = pd.DataFrame(data=[[\"GradientBoostingRegressor\", *evaluate(y_test, test_pred) , cross_val(GradientBoostingRegressor())]], \n",
    "                          columns=['Model', 'MAE', 'MSE', 'RMSE', 'R2 Square', \"Cross Validation\"])\n",
    "evaluate_df_gb"
   ]
  },
  {
   "cell_type": "code",
   "execution_count": 22,
   "id": "exempt-commission",
   "metadata": {},
   "outputs": [
    {
     "data": {
      "image/png": "[encoded data removed]",
      "text/plain": [
       "<Figure size 432x432 with 1 Axes>"
      ]
     },
     "metadata": {
      "needs_background": "light"
     },
     "output_type": "display_data"
    }
   ],
   "source": [
    "test_score = np.zeros((params['n_estimators'],), dtype=np.float64)\n",
    "for i, y_pred in enumerate(gb_reg.staged_predict(X_test)):\n",
    "    test_score[i] = gb_reg.loss_(y_test, y_pred)\n",
    "\n",
    "fig = plt.figure(figsize=(6, 6))\n",
    "plt.subplot(1, 1, 1)\n",
    "plt.title('Deviance')\n",
    "plt.plot(np.arange(params['n_estimators']) + 1, gb_reg.train_score_, 'b-',\n",
    "         label='Training Set Deviance')\n",
    "plt.plot(np.arange(params['n_estimators']) + 1, test_score, 'r-',\n",
    "         label='Test Set Deviance')\n",
    "plt.legend(loc='upper right')\n",
    "plt.xlabel('Boosting Iterations')\n",
    "plt.ylabel('Deviance')\n",
    "fig.tight_layout()\n",
    "plt.show()"
   ]
  },
  {
   "cell_type": "code",
   "execution_count": 23,
   "id": "prospective-criminal",
   "metadata": {},
   "outputs": [
    {
     "data": {
      "image/png": "[encoded data removed]",
      "text/plain": [
       "<Figure size 864x432 with 1 Axes>"
      ]
     },
     "metadata": {
      "needs_background": "light"
     },
     "output_type": "display_data"
    }
   ],
   "source": [
    "feature_importance = gb_reg.feature_importances_\n",
    "sorted_idx = np.argsort(feature_importance)\n",
    "pos = np.arange(sorted_idx.shape[0]) + .5\n",
    "fig = plt.figure(figsize=(12, 6))\n",
    "plt.subplot(1, 1, 1)\n",
    "plt.barh(pos, feature_importance[sorted_idx], align='center')\n",
    "plt.yticks(pos, np.array(x_df.columns)[sorted_idx])\n",
    "plt.title('Feature Importance (MDI)')\n",
    "fig.tight_layout()\n",
    "plt.show()"
   ]
  },
  {
   "cell_type": "markdown",
   "id": "3386a0ea",
   "metadata": {},
   "source": [
    "### 8. Gradient boost with cross validation"
   ]
  },
  {
   "cell_type": "markdown",
   "id": "79a1cdcd",
   "metadata": {},
   "source": [
    "##### 8.1 Create a grid for parameter tuning and define a random forest regressor with cross validation"
   ]
  },
  {
   "cell_type": "code",
   "execution_count": 24,
   "id": "63293514",
   "metadata": {},
   "outputs": [],
   "source": [
    "from sklearn.model_selection import GridSearchCV\n",
    "from sklearn.ensemble import GradientBoostingRegressor\n",
    "# Create the parameter grid based on the results of random search \n",
    "param_grid = {'n_estimators':[200,500,1000], \n",
    "              'max_depth':[4,6],\n",
    "              'min_samples_split':[3,5], \n",
    "              'learning_rate': [0.1,0.05,0.01],\n",
    "              'loss':['huber', 'ls'] } \n",
    "\n",
    "# Create a based model\n",
    "gb_reg_base = GradientBoostingRegressor()\n",
    "# Instantiate the grid search model\n",
    "grid_search = GridSearchCV(estimator = gb_reg_base, param_grid = param_grid, \n",
    "                          cv = 3, n_jobs = -1, verbose = 2)"
   ]
  },
  {
   "cell_type": "markdown",
   "id": "af2b98fa",
   "metadata": {},
   "source": [
    "##### 8.2 Find the best parameter"
   ]
  },
  {
   "cell_type": "code",
   "execution_count": 25,
   "id": "0ef84f16",
   "metadata": {},
   "outputs": [
    {
     "name": "stdout",
     "output_type": "stream",
     "text": [
      "Fitting 3 folds for each of 72 candidates, totalling 216 fits\n"
     ]
    }
   ],
   "source": [
    "# Fit the grid search to the data\n",
    "grid_search.fit(X_train,y_train)\n",
    "params_best = grid_search.best_params_"
   ]
  },
  {
   "cell_type": "code",
   "execution_count": 37,
   "id": "5985e7d4",
   "metadata": {},
   "outputs": [
    {
     "data": {
      "text/plain": [
       "{'learning_rate': 0.01,\n",
       " 'loss': 'ls',\n",
       " 'max_depth': 6,\n",
       " 'min_samples_split': 3,\n",
       " 'n_estimators': 500}"
      ]
     },
     "execution_count": 37,
     "metadata": {},
     "output_type": "execute_result"
    }
   ],
   "source": [
    "params_best"
   ]
  },
  {
   "cell_type": "markdown",
   "id": "ee91965e",
   "metadata": {},
   "source": [
    "##### 8.3 Print the evaluation"
   ]
  },
  {
   "cell_type": "code",
   "execution_count": 26,
   "id": "16a7945b",
   "metadata": {},
   "outputs": [
    {
     "name": "stdout",
     "output_type": "stream",
     "text": [
      "Test set evaluation:\n",
      "_____________________________________\n",
      "MAE: 17948.38935324415\n",
      "MSE: 579198485.1287751\n",
      "RMSE: 24066.54285785092\n",
      "R2 Square 0.44124794549014257\n",
      "Train set evaluation:\n",
      "_____________________________________\n",
      "MAE: 16309.196596185164\n",
      "MSE: 469713276.6200972\n",
      "RMSE: 21672.86959818882\n",
      "R2 Square 0.5269260465869174\n"
     ]
    }
   ],
   "source": [
    "best_grid = grid_search.best_estimator_\n",
    "\n",
    "test_pred = best_grid.predict(X_test)\n",
    "train_pred = best_grid.predict(X_train)\n",
    "\n",
    "print('Test set evaluation:\\n_____________________________________')\n",
    "print_evaluate(y_test, test_pred)\n",
    "\n",
    "print('Train set evaluation:\\n_____________________________________')\n",
    "print_evaluate(y_train, train_pred)"
   ]
  },
  {
   "cell_type": "code",
   "execution_count": 27,
   "id": "6326caca",
   "metadata": {},
   "outputs": [
    {
     "data": {
      "text/html": [
       "<div>\n",
       "<style scoped>\n",
       "    .dataframe tbody tr th:only-of-type {\n",
       "        vertical-align: middle;\n",
       "    }\n",
       "\n",
       "    .dataframe tbody tr th {\n",
       "        vertical-align: top;\n",
       "    }\n",
       "\n",
       "    .dataframe thead th {\n",
       "        text-align: right;\n",
       "    }\n",
       "</style>\n",
       "<table border=\"1\" class=\"dataframe\">\n",
       "  <thead>\n",
       "    <tr style=\"text-align: right;\">\n",
       "      <th></th>\n",
       "      <th>Model</th>\n",
       "      <th>MAE</th>\n",
       "      <th>MSE</th>\n",
       "      <th>RMSE</th>\n",
       "      <th>R2 Square</th>\n",
       "      <th>Cross Validation</th>\n",
       "    </tr>\n",
       "  </thead>\n",
       "  <tbody>\n",
       "    <tr>\n",
       "      <th>0</th>\n",
       "      <td>GradientBoostingRegressor</td>\n",
       "      <td>17948.389353</td>\n",
       "      <td>5.791985e+08</td>\n",
       "      <td>24066.542858</td>\n",
       "      <td>0.441248</td>\n",
       "      <td>[0.08503370141584066, 0.17334835008426452, -0....</td>\n",
       "    </tr>\n",
       "  </tbody>\n",
       "</table>\n",
       "</div>"
      ],
      "text/plain": [
       "                       Model           MAE           MSE          RMSE  \\\n",
       "0  GradientBoostingRegressor  17948.389353  5.791985e+08  24066.542858   \n",
       "\n",
       "   R2 Square                                   Cross Validation  \n",
       "0   0.441248  [0.08503370141584066, 0.17334835008426452, -0....  "
      ]
     },
     "execution_count": 27,
     "metadata": {},
     "output_type": "execute_result"
    }
   ],
   "source": [
    "evaluate_df_gb = pd.DataFrame(data=[[\"GradientBoostingRegressor\", *evaluate(y_test, test_pred) , cross_val(GradientBoostingRegressor())]], \n",
    "                          columns=['Model', 'MAE', 'MSE', 'RMSE', 'R2 Square', \"Cross Validation\"])\n",
    "evaluate_df_gb"
   ]
  },
  {
   "cell_type": "code",
   "execution_count": 29,
   "id": "6510a704",
   "metadata": {},
   "outputs": [
    {
     "data": {
      "image/png": "[encoded data removed]",
      "text/plain": [
       "<Figure size 432x432 with 1 Axes>"
      ]
     },
     "metadata": {
      "needs_background": "light"
     },
     "output_type": "display_data"
    }
   ],
   "source": [
    "test_score = np.zeros((params_best['n_estimators'],), dtype=np.float64)\n",
    "for i, y_pred in enumerate(best_grid.staged_predict(X_test)):\n",
    "    test_score[i] = best_grid.loss_(y_test, y_pred)\n",
    "\n",
    "fig = plt.figure(figsize=(6, 6))\n",
    "plt.subplot(1, 1, 1)\n",
    "plt.title('Deviance')\n",
    "plt.plot(np.arange(params_best['n_estimators']) + 1, best_grid.train_score_, 'b-',\n",
    "         label='Training Set Deviance')\n",
    "plt.plot(np.arange(params_best['n_estimators']) + 1, test_score, 'r-',\n",
    "         label='Test Set Deviance')\n",
    "plt.legend(loc='upper right')\n",
    "plt.xlabel('Boosting Iterations')\n",
    "plt.ylabel('Deviance')\n",
    "fig.tight_layout()\n",
    "plt.show()"
   ]
  },
  {
   "cell_type": "code",
   "execution_count": 30,
   "id": "449f9c90",
   "metadata": {},
   "outputs": [
    {
     "data": {
      "image/png": "[encoded data removed]",
      "text/plain": [
       "<Figure size 864x432 with 1 Axes>"
      ]
     },
     "metadata": {
      "needs_background": "light"
     },
     "output_type": "display_data"
    }
   ],
   "source": [
    "feature_importance = best_grid.feature_importances_\n",
    "sorted_idx = np.argsort(feature_importance)\n",
    "pos = np.arange(sorted_idx.shape[0]) + .5\n",
    "fig = plt.figure(figsize=(12, 6))\n",
    "plt.subplot(1, 1, 1)\n",
    "plt.barh(pos, feature_importance[sorted_idx], align='center')\n",
    "plt.yticks(pos, np.array(x_df.columns)[sorted_idx])\n",
    "plt.title('Feature Importance (MDI)')\n",
    "fig.tight_layout()\n",
    "plt.show()"
   ]
  },
  {
   "cell_type": "markdown",
   "id": "fc00d315",
   "metadata": {},
   "source": [
    "# ------------------------------CONCLUSION-------------------------------------"
   ]
  },
  {
   "cell_type": "markdown",
   "id": "fe61c4c8",
   "metadata": {},
   "source": [
    "1. Out of all regressors, random forest regressor with cross validation can produce the best performance on the testing data set with the R2 Square of 0.463\n",
    "2. Out of all features, location and domain demonstate the most importance"
   ]
  },
  {
   "cell_type": "code",
   "execution_count": null,
   "id": "a9a0e8dc",
   "metadata": {},
   "outputs": [],
   "source": []
  }
 ],
 "metadata": {
  "kernelspec": {
   "display_name": "Python 3",
   "language": "python",
   "name": "python3"
  },
  "language_info": {
   "codemirror_mode": {
    "name": "ipython",
    "version": 3
   },
   "file_extension": ".py",
   "mimetype": "text/x-python",
   "name": "python",
   "nbconvert_exporter": "python",
   "pygments_lexer": "ipython3",
   "version": "3.6.13"
  }
 },
 "nbformat": 4,
 "nbformat_minor": 5
}
