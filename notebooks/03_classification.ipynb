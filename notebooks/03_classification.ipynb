{
 "cells": [
  {
   "cell_type": "markdown",
   "id": "e246f0e2",
   "metadata": {},
   "source": [
    "# Data Classification"
   ]
  },
  {
   "cell_type": "markdown",
   "id": "ecd00da0",
   "metadata": {},
   "source": [
    "1. This report aims to classify the data into three classes\n",
    "    - data scientist, data analyst, and data engineer\n",
    "2. The following features are provided\n",
    "    - Job Title, Rating, Company Name, Location, Headquarters, Type of ownership, Industry, Sector, lower_salary, upper_bound Minimum Size, Maximum Size\n",
    "3. The machine learning models we use include\n",
    "    - Binary classification: logistic regression, and logistic regression with cross validation\n",
    "    - Multi-class classification: KNN,decision tree, random forest, and gradient boost\n",
    "4. We aim to find the best model for classification in this data set, as well as finding the relevant features"
   ]
  },
  {
   "cell_type": "code",
   "execution_count": 1,
   "id": "brown-communication",
   "metadata": {},
   "outputs": [],
   "source": [
    "# import\n",
    "import pandas as pd\n",
    "import numpy as np\n",
    "\n",
    "import matplotlib.pyplot as plt\n",
    "import seaborn as sns\n",
    "import matplotlib as mpl\n",
    "\n",
    "import warnings\n",
    "warnings.filterwarnings(\"ignore\")\n",
    "\n",
    "from sklearn.preprocessing import LabelEncoder"
   ]
  },
  {
   "cell_type": "markdown",
   "id": "3fe66636",
   "metadata": {},
   "source": [
    "# --------------------------PREPARE THE DATA--------------------------"
   ]
  },
  {
   "cell_type": "markdown",
   "id": "welsh-wichita",
   "metadata": {},
   "source": [
    "#### 1. Load df"
   ]
  },
  {
   "cell_type": "code",
   "execution_count": 2,
   "id": "amber-stroke",
   "metadata": {},
   "outputs": [],
   "source": [
    "df_scientist = pd.read_excel(\"Cleaned_DataScientist.xlsx\", engine='openpyxl')\n",
    "df_analyst = pd.read_excel(\"Cleaned_DataAnalyst.xlsx\", engine='openpyxl')\n",
    "df_engineer = pd.read_excel(\"Cleaned_DataEngineer.xlsx\", engine='openpyxl')"
   ]
  },
  {
   "cell_type": "markdown",
   "id": "furnished-council",
   "metadata": {},
   "source": [
    "#### 2. Add domain for classification"
   ]
  },
  {
   "cell_type": "code",
   "execution_count": 3,
   "id": "guilty-pipeline",
   "metadata": {},
   "outputs": [],
   "source": [
    "df_scientist['Domain'] = 'Scientist'\n",
    "df_analyst['Domain'] = 'Analyst'\n",
    "df_engineer['Domain'] = 'Engineer'"
   ]
  },
  {
   "cell_type": "code",
   "execution_count": 4,
   "id": "agricultural-brook",
   "metadata": {},
   "outputs": [
    {
     "data": {
      "text/html": [
       "<div>\n",
       "<style scoped>\n",
       "    .dataframe tbody tr th:only-of-type {\n",
       "        vertical-align: middle;\n",
       "    }\n",
       "\n",
       "    .dataframe tbody tr th {\n",
       "        vertical-align: top;\n",
       "    }\n",
       "\n",
       "    .dataframe thead th {\n",
       "        text-align: right;\n",
       "    }\n",
       "</style>\n",
       "<table border=\"1\" class=\"dataframe\">\n",
       "  <thead>\n",
       "    <tr style=\"text-align: right;\">\n",
       "      <th></th>\n",
       "      <th>Job Title</th>\n",
       "      <th>Rating</th>\n",
       "      <th>Company Name</th>\n",
       "      <th>Location</th>\n",
       "      <th>Headquarters</th>\n",
       "      <th>Type of ownership</th>\n",
       "      <th>Industry</th>\n",
       "      <th>Sector</th>\n",
       "      <th>lower_salary</th>\n",
       "      <th>upper_bound</th>\n",
       "      <th>Minimum Size</th>\n",
       "      <th>Maximum Size</th>\n",
       "      <th>Domain</th>\n",
       "    </tr>\n",
       "  </thead>\n",
       "  <tbody>\n",
       "    <tr>\n",
       "      <th>0</th>\n",
       "      <td>Senior Data Scientist</td>\n",
       "      <td>3.5</td>\n",
       "      <td>Hopper</td>\n",
       "      <td>New York, NY</td>\n",
       "      <td>Montreal, Canada</td>\n",
       "      <td>Company - Private</td>\n",
       "      <td>Travel Agencies</td>\n",
       "      <td>Travel &amp; Tourism</td>\n",
       "      <td>111000.0</td>\n",
       "      <td>181000</td>\n",
       "      <td>501</td>\n",
       "      <td>1000.0</td>\n",
       "      <td>Scientist</td>\n",
       "    </tr>\n",
       "    <tr>\n",
       "      <th>1</th>\n",
       "      <td>Data Scientist, Product Analytics</td>\n",
       "      <td>4.5</td>\n",
       "      <td>Noom US</td>\n",
       "      <td>New York, NY</td>\n",
       "      <td>New York, NY</td>\n",
       "      <td>Company - Private</td>\n",
       "      <td>Health, Beauty, &amp; Fitness</td>\n",
       "      <td>Consumer Services</td>\n",
       "      <td>111000.0</td>\n",
       "      <td>181000</td>\n",
       "      <td>1001</td>\n",
       "      <td>5000.0</td>\n",
       "      <td>Scientist</td>\n",
       "    </tr>\n",
       "    <tr>\n",
       "      <th>2</th>\n",
       "      <td>Data Science Manager</td>\n",
       "      <td>-1.0</td>\n",
       "      <td>Decode_M</td>\n",
       "      <td>New York, NY</td>\n",
       "      <td>New York, NY</td>\n",
       "      <td>Unknown</td>\n",
       "      <td>-1</td>\n",
       "      <td>-1</td>\n",
       "      <td>111000.0</td>\n",
       "      <td>181000</td>\n",
       "      <td>1</td>\n",
       "      <td>50.0</td>\n",
       "      <td>Scientist</td>\n",
       "    </tr>\n",
       "    <tr>\n",
       "      <th>3</th>\n",
       "      <td>Data Analyst</td>\n",
       "      <td>3.4</td>\n",
       "      <td>Sapphire Digital</td>\n",
       "      <td>Lyndhurst, NJ</td>\n",
       "      <td>Lyndhurst, NJ</td>\n",
       "      <td>Company - Private</td>\n",
       "      <td>Internet</td>\n",
       "      <td>Information Technology</td>\n",
       "      <td>111000.0</td>\n",
       "      <td>181000</td>\n",
       "      <td>201</td>\n",
       "      <td>500.0</td>\n",
       "      <td>Scientist</td>\n",
       "    </tr>\n",
       "    <tr>\n",
       "      <th>4</th>\n",
       "      <td>Director, Data Science</td>\n",
       "      <td>3.4</td>\n",
       "      <td>United Entertainment Group</td>\n",
       "      <td>New York, NY</td>\n",
       "      <td>New York, NY</td>\n",
       "      <td>Company - Private</td>\n",
       "      <td>Advertising &amp; Marketing</td>\n",
       "      <td>Business Services</td>\n",
       "      <td>111000.0</td>\n",
       "      <td>181000</td>\n",
       "      <td>51</td>\n",
       "      <td>200.0</td>\n",
       "      <td>Scientist</td>\n",
       "    </tr>\n",
       "  </tbody>\n",
       "</table>\n",
       "</div>"
      ],
      "text/plain": [
       "                           Job Title  Rating                Company Name  \\\n",
       "0              Senior Data Scientist     3.5                      Hopper   \n",
       "1  Data Scientist, Product Analytics     4.5                     Noom US   \n",
       "2               Data Science Manager    -1.0                    Decode_M   \n",
       "3                       Data Analyst     3.4            Sapphire Digital   \n",
       "4             Director, Data Science     3.4  United Entertainment Group   \n",
       "\n",
       "        Location      Headquarters  Type of ownership  \\\n",
       "0   New York, NY  Montreal, Canada  Company - Private   \n",
       "1   New York, NY      New York, NY  Company - Private   \n",
       "2   New York, NY      New York, NY            Unknown   \n",
       "3  Lyndhurst, NJ     Lyndhurst, NJ  Company - Private   \n",
       "4   New York, NY      New York, NY  Company - Private   \n",
       "\n",
       "                    Industry                  Sector  lower_salary  \\\n",
       "0            Travel Agencies        Travel & Tourism      111000.0   \n",
       "1  Health, Beauty, & Fitness       Consumer Services      111000.0   \n",
       "2                         -1                      -1      111000.0   \n",
       "3                   Internet  Information Technology      111000.0   \n",
       "4    Advertising & Marketing       Business Services      111000.0   \n",
       "\n",
       "   upper_bound  Minimum Size  Maximum Size     Domain  \n",
       "0       181000           501        1000.0  Scientist  \n",
       "1       181000          1001        5000.0  Scientist  \n",
       "2       181000             1          50.0  Scientist  \n",
       "3       181000           201         500.0  Scientist  \n",
       "4       181000            51         200.0  Scientist  "
      ]
     },
     "execution_count": 4,
     "metadata": {},
     "output_type": "execute_result"
    }
   ],
   "source": [
    "# Combine three dataframes\n",
    "df_all = pd.concat([df_scientist, df_analyst, df_engineer], ignore_index=True, sort=False)\n",
    "df_all = df_all[[\"Job Title\", \"Rating\", \"Company Name\", \"Location\", \"Headquarters\", \"Type of ownership\", \"Industry\", \"Sector\", \"lower_salary\", \"upper_bound\", \"Minimum Size\", \"Maximum Size\", \"Domain\"]]\n",
    "df_all.head(5)"
   ]
  },
  {
   "cell_type": "markdown",
   "id": "e1a21e56",
   "metadata": {},
   "source": [
    "#### 3. Prepare the x label and perform encoding"
   ]
  },
  {
   "cell_type": "code",
   "execution_count": 5,
   "id": "incident-footage",
   "metadata": {},
   "outputs": [
    {
     "data": {
      "text/html": [
       "<div>\n",
       "<style scoped>\n",
       "    .dataframe tbody tr th:only-of-type {\n",
       "        vertical-align: middle;\n",
       "    }\n",
       "\n",
       "    .dataframe tbody tr th {\n",
       "        vertical-align: top;\n",
       "    }\n",
       "\n",
       "    .dataframe thead th {\n",
       "        text-align: right;\n",
       "    }\n",
       "</style>\n",
       "<table border=\"1\" class=\"dataframe\">\n",
       "  <thead>\n",
       "    <tr style=\"text-align: right;\">\n",
       "      <th></th>\n",
       "      <th>Job Title</th>\n",
       "      <th>Rating</th>\n",
       "      <th>Company Name</th>\n",
       "      <th>Location</th>\n",
       "      <th>Headquarters</th>\n",
       "      <th>Type of ownership</th>\n",
       "      <th>Industry</th>\n",
       "      <th>Sector</th>\n",
       "      <th>lower_salary</th>\n",
       "      <th>upper_bound</th>\n",
       "      <th>Minimum Size</th>\n",
       "      <th>Maximum Size</th>\n",
       "    </tr>\n",
       "  </thead>\n",
       "  <tbody>\n",
       "    <tr>\n",
       "      <th>0</th>\n",
       "      <td>3109</td>\n",
       "      <td>22</td>\n",
       "      <td>1416</td>\n",
       "      <td>204</td>\n",
       "      <td>476</td>\n",
       "      <td>2</td>\n",
       "      <td>101</td>\n",
       "      <td>25</td>\n",
       "      <td>84</td>\n",
       "      <td>120</td>\n",
       "      <td>4</td>\n",
       "      <td>4</td>\n",
       "    </tr>\n",
       "    <tr>\n",
       "      <th>1</th>\n",
       "      <td>1458</td>\n",
       "      <td>32</td>\n",
       "      <td>2129</td>\n",
       "      <td>204</td>\n",
       "      <td>508</td>\n",
       "      <td>2</td>\n",
       "      <td>53</td>\n",
       "      <td>8</td>\n",
       "      <td>84</td>\n",
       "      <td>120</td>\n",
       "      <td>5</td>\n",
       "      <td>5</td>\n",
       "    </tr>\n",
       "    <tr>\n",
       "      <th>2</th>\n",
       "      <td>1276</td>\n",
       "      <td>0</td>\n",
       "      <td>894</td>\n",
       "      <td>204</td>\n",
       "      <td>508</td>\n",
       "      <td>14</td>\n",
       "      <td>0</td>\n",
       "      <td>0</td>\n",
       "      <td>84</td>\n",
       "      <td>120</td>\n",
       "      <td>1</td>\n",
       "      <td>1</td>\n",
       "    </tr>\n",
       "    <tr>\n",
       "      <th>3</th>\n",
       "      <td>689</td>\n",
       "      <td>21</td>\n",
       "      <td>2641</td>\n",
       "      <td>175</td>\n",
       "      <td>424</td>\n",
       "      <td>2</td>\n",
       "      <td>61</td>\n",
       "      <td>13</td>\n",
       "      <td>84</td>\n",
       "      <td>120</td>\n",
       "      <td>3</td>\n",
       "      <td>3</td>\n",
       "    </tr>\n",
       "    <tr>\n",
       "      <th>4</th>\n",
       "      <td>1640</td>\n",
       "      <td>21</td>\n",
       "      <td>3208</td>\n",
       "      <td>204</td>\n",
       "      <td>508</td>\n",
       "      <td>2</td>\n",
       "      <td>2</td>\n",
       "      <td>6</td>\n",
       "      <td>84</td>\n",
       "      <td>120</td>\n",
       "      <td>2</td>\n",
       "      <td>2</td>\n",
       "    </tr>\n",
       "  </tbody>\n",
       "</table>\n",
       "</div>"
      ],
      "text/plain": [
       "   Job Title  Rating  Company Name  Location  Headquarters  Type of ownership  \\\n",
       "0       3109      22          1416       204           476                  2   \n",
       "1       1458      32          2129       204           508                  2   \n",
       "2       1276       0           894       204           508                 14   \n",
       "3        689      21          2641       175           424                  2   \n",
       "4       1640      21          3208       204           508                  2   \n",
       "\n",
       "   Industry  Sector  lower_salary  upper_bound  Minimum Size  Maximum Size  \n",
       "0       101      25            84          120             4             4  \n",
       "1        53       8            84          120             5             5  \n",
       "2         0       0            84          120             1             1  \n",
       "3        61      13            84          120             3             3  \n",
       "4         2       6            84          120             2             2  "
      ]
     },
     "execution_count": 5,
     "metadata": {},
     "output_type": "execute_result"
    }
   ],
   "source": [
    "x_df = df_all.drop('Domain', axis = 1)\n",
    "x_df = x_df.apply(LabelEncoder().fit_transform)\n",
    "x_df.head()"
   ]
  },
  {
   "cell_type": "code",
   "execution_count": null,
   "id": "1f66065d",
   "metadata": {},
   "outputs": [],
   "source": []
  },
  {
   "cell_type": "markdown",
   "id": "92661f94",
   "metadata": {},
   "source": [
    "# ------------------------------Functions------------------------------"
   ]
  },
  {
   "cell_type": "markdown",
   "id": "76d80902",
   "metadata": {},
   "source": [
    "#### 1. Print Evaluation"
   ]
  },
  {
   "cell_type": "code",
   "execution_count": 6,
   "id": "5289eba1",
   "metadata": {},
   "outputs": [],
   "source": [
    "from sklearn.metrics import classification_report\n",
    "from sklearn.model_selection import cross_val_score\n",
    "\n",
    "def print_evaluate(classifier, y_test, prediction):  \n",
    "    scores_accuracy = cross_val_score(classifier, x_df, y_df, cv=10, scoring='accuracy')\n",
    "    scores_f1 = cross_val_score(classifier, x_df, y_df, cv=10, scoring='f1_macro')\n",
    "    print('K-fold cross-validation results:')\n",
    "    print(classifier.__class__.__name__+\" average accuracy is %2.3f\" % scores_accuracy.mean())\n",
    "    print(classifier.__class__.__name__+\" average f1 is %2.3f\" % scores_f1.mean())\n",
    "    print('Classification report: ')\n",
    "    print(classification_report(y_test, prediction))"
   ]
  },
  {
   "cell_type": "markdown",
   "id": "5700ec65",
   "metadata": {},
   "source": [
    "#### 2. Plot the AUC (area underneath the ROC curve)"
   ]
  },
  {
   "cell_type": "code",
   "execution_count": 7,
   "id": "53599fec",
   "metadata": {},
   "outputs": [],
   "source": [
    "from sklearn.metrics import roc_curve, auc\n",
    "def plot_auc(y_test, prediction):\n",
    "    [fpr, tpr, thr] = roc_curve(y_test, prediction)\n",
    "    idx = np.min(np.where(tpr > 0.8))\n",
    "    plt.figure()\n",
    "    plt.plot(fpr, tpr, color='coral', label='ROC curve (area = %0.3f)' % auc(fpr, tpr))\n",
    "    plt.plot([0, 1], [0, 1], 'k--')\n",
    "    plt.plot([0,fpr[idx]], [tpr[idx],tpr[idx]], 'k--', color='blue')\n",
    "    plt.plot([fpr[idx],fpr[idx]], [0,tpr[idx]], 'k--', color='blue')\n",
    "    plt.xlim([0.0, 1.0])\n",
    "    plt.ylim([0.0, 1.05])\n",
    "    plt.xlabel('False Positive Rate (1 - specificity)', fontsize=14)\n",
    "    plt.ylabel('True Positive Rate (recall)', fontsize=14)\n",
    "    plt.title('Receiver operating characteristic (ROC) curve')\n",
    "    plt.legend(loc=\"lower right\")\n",
    "    plt.show()"
   ]
  },
  {
   "cell_type": "code",
   "execution_count": null,
   "id": "8abd65f8",
   "metadata": {},
   "outputs": [],
   "source": []
  },
  {
   "cell_type": "markdown",
   "id": "4e7241fa",
   "metadata": {},
   "source": [
    "# -------------------------------RESULTS----------------------------------"
   ]
  },
  {
   "cell_type": "markdown",
   "id": "b3ad5a8c",
   "metadata": {},
   "source": [
    "## 1. Binary Classification"
   ]
  },
  {
   "cell_type": "markdown",
   "id": "b6f9168d",
   "metadata": {},
   "source": [
    "### 1.1 Preparation"
   ]
  },
  {
   "cell_type": "markdown",
   "id": "45c8de1d",
   "metadata": {},
   "source": [
    "##### 1.1.1 Prepare the y label for logistic regression"
   ]
  },
  {
   "cell_type": "markdown",
   "id": "3509e54e",
   "metadata": {},
   "source": [
    "Let \"scientist\" be 1, and otherwise 0"
   ]
  },
  {
   "cell_type": "code",
   "execution_count": 8,
   "id": "valuable-prison",
   "metadata": {},
   "outputs": [
    {
     "data": {
      "text/plain": [
       "array([1, 1, 1, ..., 0, 0, 0])"
      ]
     },
     "execution_count": 8,
     "metadata": {},
     "output_type": "execute_result"
    }
   ],
   "source": [
    "y_df = np.where(df_all['Domain']=='Scientist', 1, 0)\n",
    "y_df"
   ]
  },
  {
   "cell_type": "markdown",
   "id": "32b98d6b",
   "metadata": {},
   "source": [
    "##### 1.1.2 Perform train test split for logistic regression"
   ]
  },
  {
   "cell_type": "code",
   "execution_count": 9,
   "id": "a6de9152",
   "metadata": {},
   "outputs": [],
   "source": [
    "from sklearn.model_selection import train_test_split\n",
    "\n",
    "X_train, X_test, y_train, y_test = train_test_split(x_df, y_df, test_size=0.2, random_state=1)"
   ]
  },
  {
   "cell_type": "markdown",
   "id": "11e85316",
   "metadata": {},
   "source": [
    "### 1.2 Logistic regression"
   ]
  },
  {
   "cell_type": "markdown",
   "id": "chinese-photography",
   "metadata": {},
   "source": [
    "##### 1.2.1 Define a logistic regression classifier"
   ]
  },
  {
   "cell_type": "code",
   "execution_count": 10,
   "id": "certain-attention",
   "metadata": {},
   "outputs": [],
   "source": [
    "from sklearn.linear_model import LogisticRegression\n",
    "logreg = LogisticRegression()\n",
    "logreg.fit(X_train, y_train)\n",
    "\n",
    "prediction = logreg.predict(X_test)"
   ]
  },
  {
   "cell_type": "markdown",
   "id": "247f8eaa",
   "metadata": {},
   "source": [
    "##### 1.2.2 Produce a confusion matrix for the logistic regression"
   ]
  },
  {
   "cell_type": "code",
   "execution_count": 11,
   "id": "stone-profile",
   "metadata": {},
   "outputs": [
    {
     "data": {
      "text/plain": [
       "array([[740, 251],\n",
       "       [361, 386]], dtype=int64)"
      ]
     },
     "execution_count": 11,
     "metadata": {},
     "output_type": "execute_result"
    }
   ],
   "source": [
    "from sklearn.metrics import confusion_matrix\n",
    "confusion_matrix(y_test, prediction)"
   ]
  },
  {
   "cell_type": "markdown",
   "id": "30680469",
   "metadata": {},
   "source": [
    "##### 1.2.3 Print the evaluation"
   ]
  },
  {
   "cell_type": "code",
   "execution_count": 12,
   "id": "appointed-desire",
   "metadata": {},
   "outputs": [
    {
     "name": "stdout",
     "output_type": "stream",
     "text": [
      "K-fold cross-validation results:\n",
      "LogisticRegression average accuracy is 0.593\n",
      "LogisticRegression average f1 is 0.572\n",
      "Classification report: \n",
      "              precision    recall  f1-score   support\n",
      "\n",
      "           0       0.67      0.75      0.71       991\n",
      "           1       0.61      0.52      0.56       747\n",
      "\n",
      "    accuracy                           0.65      1738\n",
      "   macro avg       0.64      0.63      0.63      1738\n",
      "weighted avg       0.64      0.65      0.64      1738\n",
      "\n"
     ]
    }
   ],
   "source": [
    "print_evaluate(logreg, y_test, prediction)"
   ]
  },
  {
   "cell_type": "markdown",
   "id": "3a1082d3",
   "metadata": {},
   "source": [
    "##### 1.2.4 Print AUC"
   ]
  },
  {
   "cell_type": "code",
   "execution_count": 13,
   "id": "minor-fiber",
   "metadata": {},
   "outputs": [
    {
     "data": {
      "image/png": "[encoded data removed]",
      "text/plain": [
       "<Figure size 432x288 with 1 Axes>"
      ]
     },
     "metadata": {
      "needs_background": "light"
     },
     "output_type": "display_data"
    }
   ],
   "source": [
    "plot_auc(y_test, prediction)"
   ]
  },
  {
   "cell_type": "markdown",
   "id": "97bc9535",
   "metadata": {},
   "source": [
    "### 1.3 Logistic regression with cross validation "
   ]
  },
  {
   "cell_type": "markdown",
   "id": "5bc768eb",
   "metadata": {},
   "source": [
    "##### 1.3.1 Prepare a classifier"
   ]
  },
  {
   "cell_type": "code",
   "execution_count": 14,
   "id": "informative-voice",
   "metadata": {},
   "outputs": [],
   "source": [
    "from sklearn.preprocessing import StandardScaler\n",
    "from sklearn.pipeline import Pipeline\n",
    "\n",
    "pipeline = Pipeline([\n",
    "    ('std_scalar', StandardScaler())\n",
    "])\n",
    "\n",
    "X_train = pipeline.fit_transform(X_train)\n",
    "X_test = pipeline.transform(X_test)\n",
    "\n",
    "logreg_c = LogisticRegression()\n",
    "logreg_c.fit(X_train, y_train)\n",
    "\n",
    "prediction = logreg_c.predict(X_test)"
   ]
  },
  {
   "cell_type": "markdown",
   "id": "1cb0e870",
   "metadata": {},
   "source": [
    "##### 1.3.2 Print the evaluation"
   ]
  },
  {
   "cell_type": "code",
   "execution_count": 15,
   "id": "passive-spyware",
   "metadata": {},
   "outputs": [
    {
     "name": "stdout",
     "output_type": "stream",
     "text": [
      "K-fold cross-validation results:\n",
      "LogisticRegression average accuracy is 0.593\n",
      "LogisticRegression average f1 is 0.572\n",
      "Classification report: \n",
      "              precision    recall  f1-score   support\n",
      "\n",
      "           0       0.68      0.79      0.73       991\n",
      "           1       0.65      0.50      0.57       747\n",
      "\n",
      "    accuracy                           0.67      1738\n",
      "   macro avg       0.66      0.65      0.65      1738\n",
      "weighted avg       0.66      0.67      0.66      1738\n",
      "\n"
     ]
    }
   ],
   "source": [
    "print_evaluate(logreg_c, y_test, prediction)"
   ]
  },
  {
   "cell_type": "markdown",
   "id": "72c91626",
   "metadata": {},
   "source": [
    "##### 1.3.3 Print AUC"
   ]
  },
  {
   "cell_type": "code",
   "execution_count": 16,
   "id": "9da6332a",
   "metadata": {},
   "outputs": [
    {
     "data": {
      "image/png": "[encoded data removed]",
      "text/plain": [
       "<Figure size 432x288 with 1 Axes>"
      ]
     },
     "metadata": {
      "needs_background": "light"
     },
     "output_type": "display_data"
    }
   ],
   "source": [
    "plot_auc(y_test, prediction)"
   ]
  },
  {
   "cell_type": "markdown",
   "id": "cd69b208",
   "metadata": {},
   "source": [
    "### 1.4 Binary classification Conclusion"
   ]
  },
  {
   "cell_type": "markdown",
   "id": "8ff1d870",
   "metadata": {},
   "source": [
    "Cross validation can improve the performance of logistic regression"
   ]
  },
  {
   "cell_type": "markdown",
   "id": "23b7a6bc",
   "metadata": {},
   "source": [
    "## 2. Multi-class Classification"
   ]
  },
  {
   "cell_type": "markdown",
   "id": "c8606942",
   "metadata": {},
   "source": [
    "### 2.1 Preparation"
   ]
  },
  {
   "cell_type": "markdown",
   "id": "6d096586",
   "metadata": {},
   "source": [
    "##### 2.1.1 Prepare the y label for classification"
   ]
  },
  {
   "cell_type": "code",
   "execution_count": 17,
   "id": "imposed-reflection",
   "metadata": {},
   "outputs": [],
   "source": [
    "y_df = df_all['Domain']"
   ]
  },
  {
   "cell_type": "markdown",
   "id": "9a39f010",
   "metadata": {},
   "source": [
    "##### 2.1.2 Print the ground truth values (i.e., expected values)"
   ]
  },
  {
   "cell_type": "code",
   "execution_count": 18,
   "id": "stupid-glory",
   "metadata": {},
   "outputs": [
    {
     "data": {
      "image/png": "[encoded data removed]",
      "text/plain": [
       "<Figure size 576x432 with 1 Axes>"
      ]
     },
     "metadata": {
      "needs_background": "light"
     },
     "output_type": "display_data"
    }
   ],
   "source": [
    "plt.figure(figsize=(8,6))\n",
    "sns.scatterplot(x='upper_bound', y='lower_salary', data=x_df, hue=y_df, palette='deep', s=100, alpha=0.9).set_title(\"Groud truth classifications\")\n",
    "sns.despine(left=True)"
   ]
  },
  {
   "cell_type": "markdown",
   "id": "56c99658",
   "metadata": {},
   "source": [
    "##### 2.1.3 Encode the y_label"
   ]
  },
  {
   "cell_type": "markdown",
   "id": "f48c9d58",
   "metadata": {},
   "source": [
    "Scientist => 0, Analyst => 1, Engineer => 2"
   ]
  },
  {
   "cell_type": "code",
   "execution_count": 19,
   "id": "smart-sampling",
   "metadata": {},
   "outputs": [],
   "source": [
    "data_class = {'Scientist':0, 'Analyst':1, 'Engineer':2}\n",
    "df_all['domain_num'] = [data_class[i] for i in df_all.Domain]\n",
    "y_df = df_all[\"domain_num\"]"
   ]
  },
  {
   "cell_type": "markdown",
   "id": "d3a970e0",
   "metadata": {},
   "source": [
    "##### 2.1.4 Perform train test split"
   ]
  },
  {
   "cell_type": "code",
   "execution_count": 20,
   "id": "departmental-sharing",
   "metadata": {},
   "outputs": [],
   "source": [
    "X_train, X_test, y_train, y_test = train_test_split(x_df, y_df, test_size=0.2, random_state=15)"
   ]
  },
  {
   "cell_type": "markdown",
   "id": "cce18df7",
   "metadata": {},
   "source": [
    "### 2.2 KNN"
   ]
  },
  {
   "cell_type": "markdown",
   "id": "628d870f",
   "metadata": {},
   "source": [
    "##### 2.2.1 Create a KNN classifier"
   ]
  },
  {
   "cell_type": "code",
   "execution_count": 21,
   "id": "fitted-muscle",
   "metadata": {},
   "outputs": [
    {
     "data": {
      "text/plain": [
       "0.5189873417721519"
      ]
     },
     "execution_count": 21,
     "metadata": {},
     "output_type": "execute_result"
    }
   ],
   "source": [
    "from sklearn.neighbors import KNeighborsClassifier\n",
    "knn = KNeighborsClassifier(n_neighbors=5)\n",
    "knn.fit(X_train, y_train)\n",
    "prediction = knn.predict(X_test)\n",
    "knn.score(X_test, y_test)"
   ]
  },
  {
   "cell_type": "markdown",
   "id": "e12ede28",
   "metadata": {},
   "source": [
    "##### 2.2.2 Print the evaluation"
   ]
  },
  {
   "cell_type": "code",
   "execution_count": 22,
   "id": "attempted-authority",
   "metadata": {
    "scrolled": true
   },
   "outputs": [
    {
     "name": "stdout",
     "output_type": "stream",
     "text": [
      "K-fold cross-validation results:\n",
      "KNeighborsClassifier average accuracy is 0.492\n",
      "KNeighborsClassifier average f1 is 0.471\n",
      "Classification report: \n",
      "              precision    recall  f1-score   support\n",
      "\n",
      "           0       0.53      0.61      0.57       799\n",
      "           1       0.48      0.40      0.44       446\n",
      "           2       0.52      0.47      0.50       493\n",
      "\n",
      "    accuracy                           0.52      1738\n",
      "   macro avg       0.51      0.50      0.50      1738\n",
      "weighted avg       0.52      0.52      0.52      1738\n",
      "\n"
     ]
    }
   ],
   "source": [
    "print_evaluate(knn, y_test, prediction)"
   ]
  },
  {
   "cell_type": "markdown",
   "id": "9502468b",
   "metadata": {},
   "source": [
    "##### 2.2.3 KNN conclusion"
   ]
  },
  {
   "cell_type": "markdown",
   "id": "d02ee0fe",
   "metadata": {},
   "source": [
    "The performance of KNN is not desirable in this data set"
   ]
  },
  {
   "cell_type": "markdown",
   "id": "unique-berlin",
   "metadata": {},
   "source": [
    "### 2.3 Decision Tree"
   ]
  },
  {
   "cell_type": "markdown",
   "id": "b88bfb42",
   "metadata": {},
   "source": [
    "##### 2.3.1 Create a classifier"
   ]
  },
  {
   "cell_type": "code",
   "execution_count": 23,
   "id": "interior-crowd",
   "metadata": {},
   "outputs": [],
   "source": [
    "from sklearn.tree import DecisionTreeClassifier\n",
    "dtc = DecisionTreeClassifier()\n",
    "dtc.fit(X_train,y_train)\n",
    "prediction = dtc.predict(X_test)"
   ]
  },
  {
   "cell_type": "markdown",
   "id": "790e7496",
   "metadata": {},
   "source": [
    "##### 2.3.2 Print evaluation"
   ]
  },
  {
   "cell_type": "code",
   "execution_count": 24,
   "id": "bigger-seven",
   "metadata": {},
   "outputs": [
    {
     "name": "stdout",
     "output_type": "stream",
     "text": [
      "K-fold cross-validation results:\n",
      "DecisionTreeClassifier average accuracy is 0.457\n",
      "DecisionTreeClassifier average f1 is 0.432\n",
      "Classification report: \n",
      "              precision    recall  f1-score   support\n",
      "\n",
      "           0       0.92      0.94      0.93       799\n",
      "           1       0.92      0.87      0.89       446\n",
      "           2       0.90      0.91      0.91       493\n",
      "\n",
      "    accuracy                           0.91      1738\n",
      "   macro avg       0.91      0.91      0.91      1738\n",
      "weighted avg       0.91      0.91      0.91      1738\n",
      "\n"
     ]
    }
   ],
   "source": [
    "print_evaluate(dtc, y_test, prediction)"
   ]
  },
  {
   "cell_type": "markdown",
   "id": "67671822",
   "metadata": {},
   "source": [
    "##### 2.3.3 Evaluate the importance of the features"
   ]
  },
  {
   "cell_type": "code",
   "execution_count": 25,
   "id": "coordinate-cleaning",
   "metadata": {},
   "outputs": [
    {
     "data": {
      "text/plain": [
       "<AxesSubplot:>"
      ]
     },
     "execution_count": 25,
     "metadata": {},
     "output_type": "execute_result"
    },
    {
     "data": {
      "image/png": "[encoded data removed]",
      "text/plain": [
       "<Figure size 576x432 with 1 Axes>"
      ]
     },
     "metadata": {
      "needs_background": "light"
     },
     "output_type": "display_data"
    }
   ],
   "source": [
    "plt.figure(figsize=(8,6))\n",
    "importance = dtc.feature_importances_\n",
    "sns.barplot(x=importance, y=x_df.columns)"
   ]
  },
  {
   "cell_type": "markdown",
   "id": "e8d5680e",
   "metadata": {},
   "source": [
    "##### 2.3.4 Print the tree"
   ]
  },
  {
   "cell_type": "code",
   "execution_count": 26,
   "id": "published-campaign",
   "metadata": {},
   "outputs": [
    {
     "data": {
      "image/png": "[encoded data removed]",
      "text/plain": [
       "<Figure size 1440x360 with 1 Axes>"
      ]
     },
     "metadata": {
      "needs_background": "light"
     },
     "output_type": "display_data"
    }
   ],
   "source": [
    "from sklearn import tree\n",
    "plt.rcParams['figure.figsize'] = [20, 5]\n",
    "tree.plot_tree(dtc) \n",
    "plt.show()"
   ]
  },
  {
   "cell_type": "markdown",
   "id": "9e3f773a",
   "metadata": {},
   "source": [
    "##### 2.3.5 Decision tree conclusion"
   ]
  },
  {
   "cell_type": "markdown",
   "id": "946249e6",
   "metadata": {},
   "source": [
    "1. Decision tree can acheive a relatively good result with a f1 score of up to 0.93\n",
    "2. \"Lower salary\" and \"upper bound\" are the most important features"
   ]
  },
  {
   "cell_type": "markdown",
   "id": "indirect-spoke",
   "metadata": {},
   "source": [
    "### 2.4 Random forest classifier with cross validation"
   ]
  },
  {
   "cell_type": "markdown",
   "id": "bce521ca",
   "metadata": {},
   "source": [
    "##### 2.4.1 Create a grid for parameter tuning"
   ]
  },
  {
   "cell_type": "code",
   "execution_count": 28,
   "id": "566b177e",
   "metadata": {},
   "outputs": [
    {
     "name": "stdout",
     "output_type": "stream",
     "text": [
      "{'bootstrap': [True, False],\n",
      " 'max_depth': [10, 20, 30, 40, 50, 60, 70, 80, 90, 100, 110, None],\n",
      " 'max_features': ['auto', 'sqrt'],\n",
      " 'min_samples_leaf': [1, 2, 4],\n",
      " 'min_samples_split': [2, 5, 10],\n",
      " 'n_estimators': [200, 400, 600, 800, 1000, 1200, 1400, 1600, 1800, 2000]}\n"
     ]
    }
   ],
   "source": [
    "from pprint import pprint\n",
    "# Number of trees in random forest\n",
    "n_estimators = [int(x) for x in np.linspace(start = 200, stop = 2000, num = 10)]\n",
    "# Number of features to consider at every split\n",
    "max_features = ['auto', 'sqrt']\n",
    "# Maximum number of levels in tree\n",
    "max_depth = [int(x) for x in np.linspace(10, 110, num = 11)]\n",
    "max_depth.append(None)\n",
    "# Minimum number of samples required to split a node\n",
    "min_samples_split = [2, 5, 10]\n",
    "# Minimum number of samples required at each leaf node\n",
    "min_samples_leaf = [1, 2, 4]\n",
    "# Method of selecting samples for training each tree\n",
    "bootstrap = [True, False]\n",
    "# Create the random grid\n",
    "random_grid = {'n_estimators': n_estimators,\n",
    "               'max_features': max_features,\n",
    "               'max_depth': max_depth,\n",
    "               'min_samples_split': min_samples_split,\n",
    "               'min_samples_leaf': min_samples_leaf,\n",
    "               'bootstrap': bootstrap}\n",
    "pprint(random_grid)"
   ]
  },
  {
   "cell_type": "markdown",
   "id": "70cb5edd",
   "metadata": {},
   "source": [
    "##### 2.4.2 Create a classifer, and then use the grid to find the best parameter"
   ]
  },
  {
   "cell_type": "code",
   "execution_count": 29,
   "id": "f6ea39bd",
   "metadata": {},
   "outputs": [
    {
     "name": "stdout",
     "output_type": "stream",
     "text": [
      "Fitting 3 folds for each of 100 candidates, totalling 300 fits\n"
     ]
    },
    {
     "data": {
      "text/plain": [
       "RandomizedSearchCV(cv=3, estimator=RandomForestClassifier(), n_iter=100,\n",
       "                   n_jobs=-1,\n",
       "                   param_distributions={'bootstrap': [True, False],\n",
       "                                        'max_depth': [10, 20, 30, 40, 50, 60,\n",
       "                                                      70, 80, 90, 100, 110,\n",
       "                                                      None],\n",
       "                                        'max_features': ['auto', 'sqrt'],\n",
       "                                        'min_samples_leaf': [1, 2, 4],\n",
       "                                        'min_samples_split': [2, 5, 10],\n",
       "                                        'n_estimators': [200, 400, 600, 800,\n",
       "                                                         1000, 1200, 1400, 1600,\n",
       "                                                         1800, 2000]},\n",
       "                   random_state=42, verbose=2)"
      ]
     },
     "execution_count": 29,
     "metadata": {},
     "output_type": "execute_result"
    }
   ],
   "source": [
    "from sklearn.ensemble import RandomForestClassifier\n",
    "from sklearn.model_selection import RandomizedSearchCV\n",
    "\n",
    "\n",
    "rf = RandomForestClassifier()\n",
    "# Random search of parameters, using 3 fold cross validation, \n",
    "# search across 100 different combinations, and use all available cores\n",
    "rf_random = RandomizedSearchCV(estimator = rf, \n",
    "                               param_distributions = random_grid,\n",
    "                               n_iter = 100, \n",
    "                               cv = 3, \n",
    "                               verbose=2, \n",
    "                               random_state=42, \n",
    "                               n_jobs = -1)\n",
    "# Fit the random search model\n",
    "rf_random.fit(X_train,y_train)"
   ]
  },
  {
   "cell_type": "markdown",
   "id": "0bc8f3d4",
   "metadata": {},
   "source": [
    "###### - Best parameter"
   ]
  },
  {
   "cell_type": "code",
   "execution_count": 30,
   "id": "4598b368",
   "metadata": {},
   "outputs": [
    {
     "data": {
      "text/plain": [
       "{'n_estimators': 800,\n",
       " 'min_samples_split': 5,\n",
       " 'min_samples_leaf': 1,\n",
       " 'max_features': 'sqrt',\n",
       " 'max_depth': 100,\n",
       " 'bootstrap': False}"
      ]
     },
     "execution_count": 30,
     "metadata": {},
     "output_type": "execute_result"
    }
   ],
   "source": [
    "rf_random.best_params_"
   ]
  },
  {
   "cell_type": "code",
   "execution_count": 31,
   "id": "9e0542f5",
   "metadata": {},
   "outputs": [],
   "source": [
    "best_random = rf_random.best_estimator_\n",
    "prediction = best_random.predict(X_test)"
   ]
  },
  {
   "cell_type": "code",
   "execution_count": 32,
   "id": "67d4d6c1",
   "metadata": {},
   "outputs": [
    {
     "data": {
      "text/plain": [
       "'prediction = rf_random.predict(X_test)\\nprint_evaluate(rf_random, y_test, prediction)'"
      ]
     },
     "execution_count": 32,
     "metadata": {},
     "output_type": "execute_result"
    }
   ],
   "source": [
    "\"\"\"prediction = rf_random.predict(X_test)\n",
    "print_evaluate(rf_random, y_test, prediction)\"\"\""
   ]
  },
  {
   "cell_type": "markdown",
   "id": "2cbc9aa3",
   "metadata": {},
   "source": [
    "##### 2.4.3 Print the evaluation"
   ]
  },
  {
   "cell_type": "code",
   "execution_count": 33,
   "id": "sublime-plastic",
   "metadata": {},
   "outputs": [
    {
     "name": "stdout",
     "output_type": "stream",
     "text": [
      "K-fold cross-validation results:\n",
      "RandomForestClassifier average accuracy is 0.531\n",
      "RandomForestClassifier average f1 is 0.508\n",
      "Classification report: \n",
      "              precision    recall  f1-score   support\n",
      "\n",
      "           0       0.90      0.94      0.92       799\n",
      "           1       0.89      0.89      0.89       446\n",
      "           2       0.94      0.88      0.91       493\n",
      "\n",
      "    accuracy                           0.91      1738\n",
      "   macro avg       0.91      0.90      0.91      1738\n",
      "weighted avg       0.91      0.91      0.91      1738\n",
      "\n"
     ]
    }
   ],
   "source": [
    "print_evaluate(best_random, y_test, prediction)"
   ]
  },
  {
   "cell_type": "markdown",
   "id": "8d865b9b",
   "metadata": {},
   "source": [
    "##### 2.4.4 Evaluate the importance of the features using the best parameter"
   ]
  },
  {
   "cell_type": "code",
   "execution_count": 35,
   "id": "knowing-lawrence",
   "metadata": {},
   "outputs": [
    {
     "data": {
      "text/plain": [
       "<AxesSubplot:>"
      ]
     },
     "execution_count": 35,
     "metadata": {},
     "output_type": "execute_result"
    },
    {
     "data": {
      "image/png": "[encoded data removed]",
      "text/plain": [
       "<Figure size 576x432 with 1 Axes>"
      ]
     },
     "metadata": {
      "needs_background": "light"
     },
     "output_type": "display_data"
    }
   ],
   "source": [
    "plt.figure(figsize=(8,6))\n",
    "importance = best_random.feature_importances_\n",
    "sns.barplot(x=importance, y=x_df.columns)"
   ]
  },
  {
   "cell_type": "markdown",
   "id": "tested-kitty",
   "metadata": {},
   "source": [
    "### 2.5 Gradient boost classification"
   ]
  },
  {
   "cell_type": "markdown",
   "id": "3bdcc276",
   "metadata": {},
   "source": [
    "##### 2.5.1 Create a classifier"
   ]
  },
  {
   "cell_type": "code",
   "execution_count": 36,
   "id": "identified-league",
   "metadata": {},
   "outputs": [],
   "source": [
    "from sklearn.ensemble import GradientBoostingClassifier\n",
    "\n",
    "gbc = GradientBoostingClassifier()\n",
    "gbc.fit(X_train,y_train)\n",
    "\n",
    "prediction = gbc.predict(X_test)"
   ]
  },
  {
   "cell_type": "markdown",
   "id": "0be2c464",
   "metadata": {},
   "source": [
    "##### 2.5.2 Print the evaluation"
   ]
  },
  {
   "cell_type": "code",
   "execution_count": 37,
   "id": "exact-recycling",
   "metadata": {},
   "outputs": [
    {
     "name": "stdout",
     "output_type": "stream",
     "text": [
      "K-fold cross-validation results:\n",
      "GradientBoostingClassifier average accuracy is 0.561\n",
      "GradientBoostingClassifier average f1 is 0.545\n",
      "Classification report: \n",
      "              precision    recall  f1-score   support\n",
      "\n",
      "           0       0.86      0.91      0.89       799\n",
      "           1       0.90      0.82      0.86       446\n",
      "           2       0.89      0.87      0.88       493\n",
      "\n",
      "    accuracy                           0.88      1738\n",
      "   macro avg       0.88      0.87      0.87      1738\n",
      "weighted avg       0.88      0.88      0.88      1738\n",
      "\n"
     ]
    }
   ],
   "source": [
    "print_evaluate(gbc, y_test, prediction)"
   ]
  },
  {
   "cell_type": "markdown",
   "id": "8624c4bc",
   "metadata": {},
   "source": [
    "##### 2.5.3 Evaluate the importance of features"
   ]
  },
  {
   "cell_type": "code",
   "execution_count": 38,
   "id": "double-defensive",
   "metadata": {},
   "outputs": [
    {
     "data": {
      "text/plain": [
       "<AxesSubplot:>"
      ]
     },
     "execution_count": 38,
     "metadata": {},
     "output_type": "execute_result"
    },
    {
     "data": {
      "image/png": "[encoded data removed]",
      "text/plain": [
       "<Figure size 576x432 with 1 Axes>"
      ]
     },
     "metadata": {
      "needs_background": "light"
     },
     "output_type": "display_data"
    }
   ],
   "source": [
    "plt.figure(figsize=(8,6))\n",
    "importance = gbc.feature_importances_\n",
    "sns.barplot(x=importance, y=x_df.columns)"
   ]
  },
  {
   "cell_type": "markdown",
   "id": "51fba5b2",
   "metadata": {},
   "source": [
    "### 2.6 Gradient boost with cross validation"
   ]
  },
  {
   "cell_type": "markdown",
   "id": "c96b9229",
   "metadata": {},
   "source": [
    "##### 2.6.1 Create a grid for parameter toning and create a classifier"
   ]
  },
  {
   "cell_type": "code",
   "execution_count": 46,
   "id": "d811973c",
   "metadata": {},
   "outputs": [],
   "source": [
    "from sklearn.model_selection import GridSearchCV\n",
    "from sklearn.ensemble import GradientBoostingClassifier\n",
    "# Create the parameter grid based on the results of random search \n",
    "param_grid = {'n_estimators':[100, 200, 300,500], \n",
    "            'learning_rate': [0.1,0.05,0.02],\n",
    "            'max_depth':[4], \n",
    "            'min_samples_leaf':[3], \n",
    "            'max_features':[1.0] } \n",
    "# Create a based model\n",
    "gbc = GradientBoostingClassifier()\n",
    "# Instantiate the grid search model\n",
    "grid_search = GridSearchCV(estimator = gbc, param_grid = param_grid, \n",
    "                          cv = 3, n_jobs = -1, verbose = 2)"
   ]
  },
  {
   "cell_type": "markdown",
   "id": "995692cc",
   "metadata": {},
   "source": [
    "##### 2.6.2 Best parameter"
   ]
  },
  {
   "cell_type": "code",
   "execution_count": 47,
   "id": "dec31450",
   "metadata": {},
   "outputs": [
    {
     "name": "stdout",
     "output_type": "stream",
     "text": [
      "Fitting 3 folds for each of 12 candidates, totalling 36 fits\n"
     ]
    },
    {
     "data": {
      "text/plain": [
       "{'learning_rate': 0.1,\n",
       " 'max_depth': 4,\n",
       " 'max_features': 1.0,\n",
       " 'min_samples_leaf': 3,\n",
       " 'n_estimators': 500}"
      ]
     },
     "execution_count": 47,
     "metadata": {},
     "output_type": "execute_result"
    }
   ],
   "source": [
    "# Fit the grid search to the data\n",
    "grid_search.fit(X_train,y_train)\n",
    "grid_search.best_params_"
   ]
  },
  {
   "cell_type": "markdown",
   "id": "657c2ed5",
   "metadata": {},
   "source": [
    "##### 2.6.3 Print the evaluation"
   ]
  },
  {
   "cell_type": "code",
   "execution_count": 49,
   "id": "17a750c5",
   "metadata": {},
   "outputs": [
    {
     "name": "stdout",
     "output_type": "stream",
     "text": [
      "K-fold cross-validation results:\n",
      "GradientBoostingClassifier average accuracy is 0.553\n",
      "GradientBoostingClassifier average f1 is 0.532\n",
      "Classification report: \n",
      "              precision    recall  f1-score   support\n",
      "\n",
      "           0       0.99      0.99      0.99       799\n",
      "           1       1.00      0.97      0.98       446\n",
      "           2       0.99      1.00      0.99       493\n",
      "\n",
      "    accuracy                           0.99      1738\n",
      "   macro avg       0.99      0.99      0.99      1738\n",
      "weighted avg       0.99      0.99      0.99      1738\n",
      "\n"
     ]
    }
   ],
   "source": [
    "best_grid = grid_search.best_estimator_\n",
    "prediction = best_grid.predict(X_test)\n",
    "print_evaluate(best_grid, y_test, prediction)"
   ]
  },
  {
   "cell_type": "markdown",
   "id": "86164206",
   "metadata": {},
   "source": [
    "##### Evaluate the importance of the parameters"
   ]
  },
  {
   "cell_type": "code",
   "execution_count": 51,
   "id": "021b1aed",
   "metadata": {},
   "outputs": [
    {
     "data": {
      "text/plain": [
       "<AxesSubplot:>"
      ]
     },
     "execution_count": 51,
     "metadata": {},
     "output_type": "execute_result"
    },
    {
     "data": {
      "image/png": "[encoded data removed]",
      "text/plain": [
       "<Figure size 576x432 with 1 Axes>"
      ]
     },
     "metadata": {
      "needs_background": "light"
     },
     "output_type": "display_data"
    }
   ],
   "source": [
    "plt.figure(figsize=(8,6))\n",
    "importance = best_grid.feature_importances_\n",
    "sns.barplot(x=importance, y=x_df.columns)"
   ]
  },
  {
   "cell_type": "markdown",
   "id": "120dcc9e",
   "metadata": {},
   "source": [
    "# ----------------------------CONCLUSION--------------------------------"
   ]
  },
  {
   "cell_type": "markdown",
   "id": "933be122",
   "metadata": {},
   "source": [
    "###### Out of all the classfiers, the 'gradient boost' with cross validation produced the best performance with the f1 score of up to 0.99."
   ]
  },
  {
   "cell_type": "code",
   "execution_count": null,
   "id": "6740a181",
   "metadata": {},
   "outputs": [],
   "source": []
  }
 ],
 "metadata": {
  "kernelspec": {
   "display_name": "Python 3",
   "language": "python",
   "name": "python3"
  },
  "language_info": {
   "codemirror_mode": {
    "name": "ipython",
    "version": 3
   },
   "file_extension": ".py",
   "mimetype": "text/x-python",
   "name": "python",
   "nbconvert_exporter": "python",
   "pygments_lexer": "ipython3",
   "version": "3.6.13"
  }
 },
 "nbformat": 4,
 "nbformat_minor": 5
}
